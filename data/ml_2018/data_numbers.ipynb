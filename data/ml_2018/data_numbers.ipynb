{
 "cells": [
  {
   "cell_type": "code",
   "execution_count": 6,
   "id": "631752e1-d556-4f20-9158-9f2742d4030b",
   "metadata": {},
   "outputs": [],
   "source": [
    "import pandas as pd\n",
    "import numpy as np\n",
    "import matplotlib.pyplot as plt\n",
    "from sklearn.datasets import load_digits\n",
    "from sklearn.model_selection import train_test_split\n",
    "%matplotlib inline"
   ]
  },
  {
   "cell_type": "code",
   "execution_count": 3,
   "id": "d3e7b97d-3d7c-4f38-a936-af8d2b11abf1",
   "metadata": {},
   "outputs": [],
   "source": [
    "mndata = load_digits()"
   ]
  },
  {
   "cell_type": "code",
   "execution_count": 11,
   "id": "1005eb24-d492-4cc2-83ec-04fcd0fe917e",
   "metadata": {},
   "outputs": [
    {
     "data": {
      "image/png": "[encoded data removed]",
      "text/plain": [
       "<Figure size 432x288 with 25 Axes>"
      ]
     },
     "metadata": {
      "needs_background": "light"
     },
     "output_type": "display_data"
    }
   ],
   "source": [
    "plt.gray()\n",
    "\n",
    "for i in range(25):\n",
    "    plt.subplot(5, 5, i + 1)\n",
    "    \n",
    "    d_image = mndata.images[0]\n",
    "    d_image = np.array(d_image, dtype='float')\n",
    "    \n",
    "    # pixels = d_image.reshape((28, 28))\n",
    "    \n",
    "    plt.imshow(d_image, cmap='gray')\n",
    "    plt.axis('off')\n",
    "    \n",
    "plt.show()"
   ]
  },
  {
   "cell_type": "code",
   "execution_count": 12,
   "id": "59a2c911-df4a-4853-adf4-ef77cd07a60c",
   "metadata": {},
   "outputs": [],
   "source": [
    "n_samples = len(mndata.images)\n",
    "data = mndata.images.reshape((n_samples, -1))\n",
    "train_data, test_data, train_labels, test_labels = train_test_split(data, mndata.target, test_size=0.3, random_state=42)"
   ]
  }
 ],
 "metadata": {
  "kernelspec": {
   "display_name": "Python 3 (ipykernel)",
   "language": "python",
   "name": "python3"
  },
  "language_info": {
   "codemirror_mode": {
    "name": "ipython",
    "version": 3
   },
   "file_extension": ".py",
   "mimetype": "text/x-python",
   "name": "python",
   "nbconvert_exporter": "python",
   "pygments_lexer": "ipython3",
   "version": "3.9.7"
  }
 },
 "nbformat": 4,
 "nbformat_minor": 5
}
