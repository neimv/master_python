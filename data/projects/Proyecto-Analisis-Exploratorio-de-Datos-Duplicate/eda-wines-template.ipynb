{
 "cells": [
  {
   "cell_type": "markdown",
   "source": "# Proyecto: Análisis Exploratorio de Datos - calidad de vinos",
   "metadata": {
    "cell_id": "c761e360edd24745a631ee7f55b818af",
    "tags": [],
    "deepnote_cell_type": "markdown",
    "deepnote_cell_height": 133.8333282470703
   }
  },
  {
   "cell_type": "markdown",
   "source": "<img src=/work/edawine.png>\n\nEsta notebook es parte de un Proyecto de la [Escuela de Data Science e Inteligencia Artificial de Platzi](https://platzi.com/datos).\n\nTodos los detalles [aquí](https://platzi.com/blog/ejercicio-eda-wine).",
   "metadata": {
    "cell_id": "efe3cd0c80c64b0dacad082cfb09b86f",
    "tags": [],
    "owner_user_id": "1ae6166b-14eb-4bce-a097-79efdbfdcb60",
    "deepnote_cell_type": "markdown",
    "deepnote_cell_height": 687.2166748046875
   }
  },
  {
   "cell_type": "markdown",
   "source": "## Instrucciones generales\n\na) Sigue el paso a paso de cada sección. Para ello tendrás que leer indicaciones para saber qué hacer en cada etapa del EDA.\n\nb) Completa el código en las celdas correspondientes para realizar tu análisis exploratorio de datos (EDA). Por ejemplo, encontrarás código incompleto marcado con guiones bajos (____):\n",
   "metadata": {
    "cell_id": "35af0a5932444e44aa11d533552cec08",
    "tags": [],
    "deepnote_cell_type": "markdown",
    "deepnote_cell_height": 189.43333435058594
   }
  },
  {
   "cell_type": "code",
   "metadata": {
    "cell_id": "eae6571343974fff88b9fa394e58c42b",
    "tags": [],
    "deepnote_cell_type": "code",
    "deepnote_cell_height": 83.83332824707031
   },
   "source": "school = 'Platzi'\nprint(____) # Incluir la variable declarada anteriormente.",
   "execution_count": null,
   "outputs": []
  },
  {
   "cell_type": "markdown",
   "source": "c) Escribe el código que veas conveniente para desarrollar lo que se pida en el EDA. Encontrarás secciones sin ninguna guía de código para que con tu creatividad uses las herramientas que veas necesarias.\n\nd) No te límites. Agrega bloques de código y de Markdown cuando lo necesites.\n\ne) Al final de cada sección encontrarás clases específicas de cursos de Platzi. Recuerda que en esos cursos es donde puedes aprender cómo resolver el proyecto. Puedes consultar las clases de manera directa para resolver tus dudas al momento.\n\nf) También recuerda que puedes tomar todos esos cursos antes o utilizarlos como fuente de consulta:\n\n- [Curso Básico de Python](https://platzi.com/cursos/python/)\n- [Curso de Entorno de Trabajo para Ciencia de Datos con Jupyter Notebooks y Anaconda](https://platzi.com/cursos/jupyter-notebook/)\n- [Curso de Python Intermedio: Comprehensions, Lambdas y Manejo de Errores](https://platzi.com/cursos/python-intermedio/)\n- [Curso de Principios de Visualización de Datos para Business Intelligence](https://platzi.com/cursos/visualizacion-datos/)\n- [Curso Básico de Manipulación y Transformación de Datos con Pandas y NumPy](https://platzi.com/cursos/pandas-numpy/)\n- [Curso Básico de Visualización de Datos con Matplotlib y Seaborn](https://platzi.com/cursos/matplotlib-seaborn/)\n- [Curso de Funciones Matemáticas para Data Science e Inteligencia Artificial](https://platzi.com/cursos/funciones-matematicas/)\n- [Curso de Matemáticas para Data Science: Estadística Descriptiva](https://platzi.com/cursos/estadistica-descriptiva/)\n- [Curso de Análisis Exploratorio de Datos](https://platzi.com/cursos/analisis-exploratorio-datos/)\n",
   "metadata": {
    "cell_id": "939f1a1f10f24939810725458d8322c1",
    "tags": [],
    "deepnote_cell_type": "markdown",
    "deepnote_cell_height": 482.23333740234375
   }
  },
  {
   "cell_type": "markdown",
   "source": "## Conoce los datos - Vinho Verde\n\n1. Lee esta información para tener contexto de los datos que se usarán:\n\nUtilizaremos dos datasets enfocados en la calidad de vinos. Ambos se relacionan a las variantes de vino blanco y vino rojo del vino portugués \"Vinho Verde\".\n\n<img src=/work/Large186.jpg>\n\nLa fuente de estos datasets son del Machine Learning Repository de UCI. Puedes conocer más de ellos [aquí](https://archive.ics.uci.edu/ml/datasets/wine+quality).\n\nInput variables (based on physicochemical tests):\n1. fixed acidity / acidez fija\nLa mayoría de los ácidos involucrados con el vino o fijos o no volátiles (no se evaporan fácilmente).\n\n2. volatile acidity / acidez volátil\nLa cantidad de ácido acético en el vino, que en niveles demasiado altos puede provocar un sabor desagradable a vinagre.\n\n3. citric acid / ácido cítrico\nEncontrado en pequeñas cantidades el ácido cítrico puede agregar 'frescura' y sabor a los vinos.\n\n4. residual sugar / azúcar residual\nLa cantidad de azúcar que queda después de que se detiene la fermentación. Es raro encontrar vinos con menos de 1 gramo/litro y vinos con más de 45 gramos/litro se consideran dulces.\n\n5. chlorides / cloruros\nLa cantidad de sal en el vino.\n\n6. free sulfur dioxide / dióxido de azufre libre\nLa forma libre de SO2 existe en equilibrio entre el SO2 molecular (como gas disuelto) y el ion bisulfito; previene el crecimiento microbiano y la oxidación del vino.\n\n7. total sulfur dioxide / dióxido de azufre total\nCantidad de formas libres y ligadas de S02; en bajas concentraciones, el SO2 es mayormente indetectable en el vino, pero en concentraciones de SO2 libres superiores a 50 ppm, el SO2 se vuelve evidente en la nariz y el sabor del vino.\n\n8. density / densidad\nLa densidad del agua es cercana a la del agua dependiendo del porcentaje de alcohol y azúcar contenido.\n\n9. pH / pH\nDescribe qué tan ácido o básico es un vino en una escala de 0 (muy ácido) a 14 (muy básico); la mayoría de los vinos están entre 3 y 4 en la escala de pH\n\n10. sulphates / sulfatos\nUn aditivo del vino que puede contribuir a los niveles de dióxido de azufre (S02), que actúa como antimicrobiano y antioxidante\n\n11. alcohol / alcohol\nEl porcentaje de contenido de alcohol del vino\n\nOutput variable (based on sensory data):\n\n12. quality / calidad\nVariable de salida o target (basada en datos sensoriales, puntuación entre 0 y 10). Indica qué tan bueno es el vino en este estándar de calidad.",
   "metadata": {
    "cell_id": "8a87bc0dc02e484dac23698635e08356",
    "tags": [],
    "deepnote_cell_type": "markdown",
    "deepnote_cell_height": 1498.63330078125
   }
  },
  {
   "cell_type": "markdown",
   "source": "## Importar librerías\n\n1. Ejecuta la siguiente celda para importar librerías.\n\nEstas son las librerías de Python esenciales para ejecutar tu EDA. Mientras desarrolles el proyecto puedes agregar las que veas conveninente. \n\nPuedes usar cualquiera que conozcas del lenguaje Python.",
   "metadata": {
    "cell_id": "8f7b790f49644d71bcd94239c27a1fb7",
    "tags": [],
    "deepnote_cell_type": "markdown",
    "deepnote_cell_height": 203.43333435058594
   }
  },
  {
   "cell_type": "code",
   "metadata": {
    "tags": [],
    "cell_id": "592e1778-8d21-4cf8-b657-7976236f5474",
    "deepnote_to_be_reexecuted": false,
    "source_hash": "feae4ae9",
    "execution_start": 1652127208397,
    "execution_millis": 3751,
    "deepnote_cell_type": "code",
    "deepnote_cell_height": 152.8333282470703
   },
   "source": "import pandas as pd\nimport numpy as np\nimport matplotlib.pyplot as plt\nimport seaborn as sns\n# agrega librerías que necesites",
   "execution_count": null,
   "outputs": []
  },
  {
   "cell_type": "markdown",
   "source": "### *Clases sugeridas*:\n\n- [Google Colab: primeros pasos](https://platzi.com/clases/2434-jupyter-notebook/40386-google-colab-primeros-pasos/?utm_source=contenido&utm_medium=organic&utm_campaign=ejercicio-eda)\n\n- [Google Colab: ciencia de datos](https://platzi.com/clases/2434-jupyter-notebook/40387-google-colab-ciencia-de-datos/?utm_source=contenido&utm_medium=organic&utm_campaign=ejercicio-eda)\n\n- [Utiliza Deepnote](https://platzi.com/clases/2434-jupyter-notebook/40388-utilizar-deepnote/?utm_source=contenido&utm_medium=organic&utm_campaign=ejercicio-eda)",
   "metadata": {
    "cell_id": "a7bb7dc5c46641329547c3c04ede6ed2",
    "tags": [],
    "deepnote_cell_type": "markdown",
    "deepnote_cell_height": 165.03334045410156
   }
  },
  {
   "cell_type": "markdown",
   "source": "## Carga de datos\n\n1. Carga los datasets directo de sus URL como se muestran en la siguiente celda.\n\nNota: alternativamente podríamos cargar los datos con los archivos csv, pero con las URL los podemos tener de forma más directa desde la fuente.",
   "metadata": {
    "cell_id": "c4f0cfaff6f94ab29261066b89090b32",
    "tags": [],
    "deepnote_cell_type": "markdown",
    "deepnote_cell_height": 167.03334045410156
   }
  },
  {
   "cell_type": "code",
   "metadata": {
    "cell_id": "c256a670082f47c2b646e7bbe383c772",
    "tags": [],
    "deepnote_to_be_reexecuted": false,
    "source_hash": "8b595c46",
    "execution_start": 1652127269000,
    "execution_millis": 1,
    "deepnote_cell_type": "code",
    "deepnote_cell_height": 98.83332824707031
   },
   "source": "url_wine_red = 'https://archive.ics.uci.edu/ml/machine-learning-databases/wine-quality/winequality-red.csv'\nurl_wine_white = 'https://archive.ics.uci.edu/ml/machine-learning-databases/wine-quality/winequality-white.csv'",
   "execution_count": null,
   "outputs": []
  },
  {
   "cell_type": "markdown",
   "source": "2. Utiliza Pandas para crear tus DataFrames utilizando las dos variables que creaste para cargar los datos. \n\nToma en cuenta que el delimiter de los archivos csv es `;`",
   "metadata": {
    "cell_id": "c97f986f765546aba07a92689457585d",
    "tags": [],
    "deepnote_cell_type": "markdown",
    "deepnote_cell_height": 91.63333129882812
   }
  },
  {
   "cell_type": "code",
   "metadata": {
    "cell_id": "f9445d0b607849308733358bde7ceccc",
    "tags": [],
    "deepnote_cell_type": "code",
    "deepnote_cell_height": 83.83332824707031
   },
   "source": "red = pd.read_csv(____, delimiter=\"____\")\nwhite = pd.read_csv(____, delimiter=\"____\")",
   "execution_count": null,
   "outputs": []
  },
  {
   "cell_type": "markdown",
   "source": "3. Carga las primeras 5 filas de ambos DataFrames.",
   "metadata": {
    "cell_id": "b7d71d4e8a7d4ff3ac6080509e68756b",
    "tags": [],
    "deepnote_cell_type": "markdown",
    "deepnote_cell_height": 69.23333740234375
   }
  },
  {
   "cell_type": "code",
   "metadata": {
    "cell_id": "3c10be88dd064000875addb897a83065",
    "tags": [],
    "deepnote_cell_type": "code",
    "deepnote_cell_height": 65.83332824707031
   },
   "source": "",
   "execution_count": null,
   "outputs": []
  },
  {
   "cell_type": "markdown",
   "source": "### *Clases sugeridas*:\n\n- [Series y DataFrames en Pandas](https://platzi.com/clases/2912-pandas-numpy/47984-series-y-dataframes-en-pandas/?utm_source=contenido&utm_medium=organic&utm_campaign=ejercicio-eda)\n- [Leer archivos CSV y JSON con Pandas](https://platzi.com/clases/2912-pandas-numpy/47985-leer-archivos-csv-y-json-con-pandas/?utm_source=contenido&utm_medium=organic&utm_campaign=ejercicio-eda)",
   "metadata": {
    "cell_id": "b5a166b124d4495aa94af1b517ad7eb8",
    "tags": [],
    "deepnote_cell_type": "markdown",
    "deepnote_cell_height": 139.63333129882812
   }
  },
  {
   "cell_type": "markdown",
   "source": "## Combina ambos DataFrames\n\n1. Incluye una variable llamada `category` a cada DataFrame que indiqué si el vino es rojo (red) o blanco (white). Esto servirá para distinguir el tipo de vino de cada fila/registro al unir los DataFrames.",
   "metadata": {
    "cell_id": "ed480474e2344e0d95172c6b75dc67c8",
    "tags": [],
    "deepnote_cell_type": "markdown",
    "deepnote_cell_height": 144.63333129882812
   }
  },
  {
   "cell_type": "code",
   "metadata": {
    "cell_id": "9b49c89f5fa242e19d2f07d7de95dbcd",
    "tags": [],
    "deepnote_cell_type": "code",
    "deepnote_cell_height": 83.83332824707031
   },
   "source": "red['____']='red'\nwhite['____']='white'",
   "execution_count": null,
   "outputs": []
  },
  {
   "cell_type": "markdown",
   "source": "2. Utiliza Pandas para unir ambos registros de los dos DataFrames.",
   "metadata": {
    "cell_id": "ccdc6fa6feb5473e930b23664eb6e459",
    "tags": [],
    "deepnote_cell_type": "markdown",
    "deepnote_cell_height": 69.23333740234375
   }
  },
  {
   "cell_type": "code",
   "metadata": {
    "cell_id": "53013357230f4ad09a76c7f10c29e700",
    "tags": [],
    "deepnote_cell_type": "code",
    "deepnote_cell_height": 65.83332824707031
   },
   "source": "total_wine=red.____(____, ignore_index=True)",
   "execution_count": null,
   "outputs": []
  },
  {
   "cell_type": "markdown",
   "source": "3. Comprueba que el DataFrame este completo viendo sus primeras filas. Ve que la columna category esté con los datos correctos.",
   "metadata": {
    "cell_id": "1d99c5db77ad419fbb4872f221b56af0",
    "tags": [],
    "deepnote_cell_type": "markdown",
    "deepnote_cell_height": 91.63333129882812
   }
  },
  {
   "cell_type": "code",
   "metadata": {
    "cell_id": "a6ee46dd889546cf9a67c5eed6e79a4a",
    "tags": [],
    "deepnote_cell_type": "code",
    "deepnote_cell_height": 65.83332824707031
   },
   "source": "",
   "execution_count": null,
   "outputs": []
  },
  {
   "cell_type": "markdown",
   "source": "### *Clases sugeridas*:\n\n- [Agregar o eliminar datos con Pandas](https://platzi.com/clases/2912-pandas-numpy/47987-agregar-o-eliminar-datos-con-pandas/?utm_source=contenido&utm_medium=organic&utm_campaign=ejercicio-eda)",
   "metadata": {
    "cell_id": "79d9e9cdaacc4adc92adfe47f5762916",
    "tags": [],
    "deepnote_cell_type": "markdown",
    "deepnote_cell_height": 114.23333740234375
   }
  },
  {
   "cell_type": "markdown",
   "source": "## Exploración inicial de los datos y validación\n\n1. Consigue la cantidad de filas y columnas del DataFrame.",
   "metadata": {
    "cell_id": "2a56ed49ffee483e83a5308b51358fd7",
    "tags": [],
    "deepnote_cell_type": "markdown",
    "deepnote_cell_height": 122.23333740234375
   }
  },
  {
   "cell_type": "code",
   "metadata": {
    "cell_id": "fd39d7d00be04069bcc21278833739f5",
    "tags": [],
    "deepnote_cell_type": "code",
    "deepnote_cell_height": 65.83332824707031
   },
   "source": "",
   "execution_count": null,
   "outputs": []
  },
  {
   "cell_type": "markdown",
   "source": "2. Conoce los tipos de datos de cada característica/variable y si tienen valores nulos.",
   "metadata": {
    "cell_id": "e51d856ceed541f0a29750ab4552a3a2",
    "tags": [],
    "deepnote_cell_type": "markdown",
    "deepnote_cell_height": 69.23333740234375
   }
  },
  {
   "cell_type": "code",
   "metadata": {
    "cell_id": "fc12edc856944ab1b8f30b1618e03f7a",
    "tags": [],
    "deepnote_cell_type": "code",
    "deepnote_cell_height": 65.83332824707031
   },
   "source": "",
   "execution_count": null,
   "outputs": []
  },
  {
   "cell_type": "markdown",
   "source": "3. Cálcula las estadísticas descriptivas del dataset. Observa a detalle las estadísticas e identifica si existen diferencias altas entre cada percentil y en los percentilees extremos con valores máximos y mínimos de cada característica/variable.",
   "metadata": {
    "cell_id": "de1604ee55d2490d98427e335886f161",
    "tags": [],
    "deepnote_cell_type": "markdown",
    "deepnote_cell_height": 114.03334045410156
   }
  },
  {
   "cell_type": "code",
   "metadata": {
    "cell_id": "583b8db0a2ed4a14a95154143bc43559",
    "tags": [],
    "deepnote_cell_type": "code",
    "deepnote_cell_height": 65.83332824707031
   },
   "source": "",
   "execution_count": null,
   "outputs": []
  },
  {
   "cell_type": "markdown",
   "source": "4. Crea una variable donde almacenarás los valores de la columna `quality`. Revisa sus estadísticas descriptivas principales.",
   "metadata": {
    "cell_id": "800cb68e45814a469a537963e99a9b3c",
    "tags": [],
    "deepnote_cell_type": "markdown",
    "deepnote_cell_height": 91.63333129882812
   }
  },
  {
   "cell_type": "code",
   "metadata": {
    "cell_id": "2d7baa5f01d1442dab3c005d36d2b5b8",
    "tags": [],
    "deepnote_cell_type": "code",
    "deepnote_cell_height": 83.83332824707031
   },
   "source": "quality = total_wine['____']\n____",
   "execution_count": null,
   "outputs": []
  },
  {
   "cell_type": "markdown",
   "source": "5. Cuenta los valores únicos de la variable `quality`. Para visualizar cómo se comporta e identificar si es una variable discreta o continua.",
   "metadata": {
    "cell_id": "557bcada3c3546c58c8e65bef7fc9be9",
    "tags": [],
    "deepnote_cell_type": "markdown",
    "deepnote_cell_height": 91.63333129882812
   }
  },
  {
   "cell_type": "code",
   "metadata": {
    "cell_id": "7d5e40194f6749cf96f43a31eb8e7fa4",
    "tags": [],
    "deepnote_cell_type": "code",
    "deepnote_cell_height": 65.83332824707031
   },
   "source": "",
   "execution_count": null,
   "outputs": []
  },
  {
   "cell_type": "markdown",
   "source": "6. Escribe tus observaciones de cada uno de los pasos anteriores de esta sección:",
   "metadata": {
    "cell_id": "a253b7d5b9e84e68970d5dedf793343b",
    "tags": [],
    "deepnote_cell_type": "markdown",
    "deepnote_cell_height": 69.23333740234375
   }
  },
  {
   "cell_type": "markdown",
   "source": "*Escribe aquí dichas observaciones.*",
   "metadata": {
    "cell_id": "fdfd222298af434fa28e31df6f9aaddd",
    "tags": [],
    "deepnote_cell_type": "markdown",
    "deepnote_cell_height": 52.23333740234375
   }
  },
  {
   "cell_type": "markdown",
   "source": "### *Clases sugeridas*:\n\n- [Shape y Reshape](https://platzi.com/clases/2912-pandas-numpy/47979-shape-y-reshape/?utm_source=contenido&utm_medium=organic&utm_campaign=ejercicio-eda)\n- [Funciones principales de Pandas](https://platzi.com/clases/2912-pandas-numpy/47990-funciones-principales-de-pandas/?utm_source=contenido&utm_medium=organic&utm_campaign=ejercicio-eda)\n- [Medidas de tendencia central](https://platzi.com/clases/2353-estadistica-descriptiva/38396-medidas-de-tendencia-central/?utm_source=contenido&utm_medium=organic&utm_campaign=ejercicio-eda)\n- [Medidas de tendencia central en Python](https://platzi.com/clases/2353-estadistica-descriptiva/38398-medidas-de-tendencia-central-en-python/?utm_source=contenido&utm_medium=organic&utm_campaign=ejercicio-eda)",
   "metadata": {
    "cell_id": "7f237beeba314f259b040b6157b3f4c0",
    "tags": [],
    "deepnote_cell_type": "markdown",
    "deepnote_cell_height": 190.43333435058594
   }
  },
  {
   "cell_type": "markdown",
   "source": "## Categorización de la variable target\n\nEn la sección anterior pudiste observar que la variable `quality` es categórica en naturaleza. Crear categorías de calidad nos ayudará a entender mejor cómo se comporta la calidad en los vinos.\n\nEn esta sección entenderás mejor la razón de esto y lo ejecutarás.\n\n1. Crea una gráfica tipo countplot de la variable `quality` para ver la cantidad de cada valor de calidad.",
   "metadata": {
    "cell_id": "353cfc64c5a041e1a30d606a0d33bd60",
    "tags": [],
    "deepnote_cell_type": "markdown",
    "deepnote_cell_height": 217.43333435058594
   }
  },
  {
   "cell_type": "code",
   "metadata": {
    "cell_id": "77093e0e8f5e4a459addc4d2a884b922",
    "tags": [],
    "deepnote_cell_type": "code",
    "deepnote_cell_height": 65.83332824707031
   },
   "source": "",
   "execution_count": null,
   "outputs": []
  },
  {
   "cell_type": "markdown",
   "source": "Con la visualización anterior es mucho más sencillo de observar cómo se categorizan los valores de calidad en 3 grupos principales (baja, media y alta). \n\n2. Completa la siguiente función lambda con las condiciones necesarias para agregar una columna al DataFrame donde se indique la categoría de calidad: 'Poor', 'Medium', 'High'. Para ello deberás definir el criterio de rango de valores de cada categoría de acuerdo a lo que observaste en la gráfica anterior.",
   "metadata": {
    "cell_id": "e74d078e3d5748739cd0c92059b3e6b5",
    "tags": [],
    "deepnote_cell_type": "markdown",
    "deepnote_cell_height": 169.8333282470703
   }
  },
  {
   "cell_type": "code",
   "metadata": {
    "cell_id": "56bbbb13c5be44b4a7a961046654b307",
    "tags": [],
    "deepnote_cell_type": "code",
    "deepnote_cell_height": 83.83332824707031
   },
   "source": "total_wine['quality_category'] = total_wine['quality'].apply(lambda x: ____)\ntotal_wine.tail()",
   "execution_count": null,
   "outputs": []
  },
  {
   "cell_type": "markdown",
   "source": "2.1 Redefine el tipo de variable de la nueva columna como tipo 'category'.",
   "metadata": {
    "cell_id": "06fb3a05a9bc4b53a2e364851fa53ff4",
    "tags": [],
    "deepnote_cell_type": "markdown",
    "deepnote_cell_height": 52.23333740234375
   }
  },
  {
   "cell_type": "code",
   "metadata": {
    "cell_id": "385768277865463a956d1df772369e90",
    "tags": [],
    "deepnote_cell_type": "code",
    "deepnote_cell_height": 83.83332824707031
   },
   "source": "total_wine.quality_category = ____\ntotal_wine.info()",
   "execution_count": null,
   "outputs": []
  },
  {
   "cell_type": "markdown",
   "source": "3. Crea una gráfica para visualizar el conteo de datos en cada una de las categorías de calidad del vino.",
   "metadata": {
    "cell_id": "5e6ff4ca0e47429aab38c6d0d5453675",
    "tags": [],
    "deepnote_cell_type": "markdown",
    "deepnote_cell_height": 69.23333740234375
   }
  },
  {
   "cell_type": "code",
   "metadata": {
    "cell_id": "e511d6780d7e4a3e9027724b5a2eb256",
    "tags": [],
    "deepnote_cell_type": "code",
    "deepnote_cell_height": 65.83332824707031
   },
   "source": "",
   "execution_count": null,
   "outputs": []
  },
  {
   "cell_type": "markdown",
   "source": "4. Escribe tus observaciones de cada uno de los pasos anteriores de esta sección:",
   "metadata": {
    "cell_id": "8bcdc54d63b94177be505af0fd06ca82",
    "tags": [],
    "deepnote_cell_type": "markdown",
    "deepnote_cell_height": 69.23333740234375
   }
  },
  {
   "cell_type": "markdown",
   "source": "*Escribe aquí dichas observaciones.*",
   "metadata": {
    "cell_id": "af233dee447c415784ac8c4990d3fd4a",
    "tags": [],
    "deepnote_cell_type": "markdown",
    "deepnote_cell_height": 52.23333740234375
   }
  },
  {
   "cell_type": "markdown",
   "source": "### *Clases sugeridas*:\n\nGráficas\n\n- [Set (Seaborn)](https://platzi.com/clases/2913-matplotlib-seaborn/47947-set/?utm_source=contenido&utm_medium=organic&utm_campaign=ejercicio-eda)\n\n- [Categóricos (Seaborn)](https://platzi.com/clases/2913-matplotlib-seaborn/47950-categoricos/?utm_source=contenido&utm_medium=organic&utm_campaign=ejercicio-eda)\n\nApply, lambdas, conversión de datos\n\n- [Funciones anónimas: lambdas](https://platzi.com/clases/2255-python-intermedio/36465-funciones-anonimas-lambda/?utm_source=contenido&utm_medium=organic&utm_campaign=ejercicio-eda)\n\n- [Apply (Pandas)](https://platzi.com/clases/2912-pandas-numpy/47996-apply/?utm_source=contenido&utm_medium=organic&utm_campaign=ejercicio-eda)\n\n- [Tipos de datos (NumPy y Pandas)](https://platzi.com/clases/2912-pandas-numpy/47976-tipos-de-datos/?utm_source=contenido&utm_medium=organic&utm_campaign=ejercicio-eda)",
   "metadata": {
    "cell_id": "011079a43d364b7598e4c579f5aa56fe",
    "tags": [],
    "deepnote_cell_type": "markdown",
    "deepnote_cell_height": 299.6333312988281
   }
  },
  {
   "cell_type": "markdown",
   "source": "## Manejo de outliers\n\nEn una sección anterior tuviste una pista de qué existen outliers en el dataset. \n\n1. Utiliza el método que veas más conveniente para detectar outliers en tu dataset. Por ejemplo, boxplots, método IQR, etc.",
   "metadata": {
    "cell_id": "7e8d700425d449578c6470339e1bef84",
    "tags": [],
    "deepnote_cell_type": "markdown",
    "deepnote_cell_height": 181.03334045410156
   }
  },
  {
   "cell_type": "code",
   "metadata": {
    "cell_id": "76daa8e29fab451789899534c239a1b4",
    "tags": [],
    "deepnote_cell_type": "code",
    "deepnote_cell_height": 65.83332824707031
   },
   "source": "",
   "execution_count": null,
   "outputs": []
  },
  {
   "cell_type": "markdown",
   "source": "2. Responde la siguiente pregunta:\n\na) ¿Ves necesario eliminar estos outliers?\n\nb) ¿Por qué?",
   "metadata": {
    "cell_id": "5854f82d45aa4b7ebb231e5395b3f03a",
    "tags": [],
    "deepnote_cell_type": "markdown",
    "deepnote_cell_height": 128.03334045410156
   }
  },
  {
   "cell_type": "markdown",
   "source": "*Escribe aquí tus respuestas.*",
   "metadata": {
    "cell_id": "23035d8f05c74f2cae8e9ccba341e4e9",
    "tags": [],
    "deepnote_cell_type": "markdown",
    "deepnote_cell_height": 52.23333740234375
   }
  },
  {
   "cell_type": "code",
   "metadata": {
    "cell_id": "8205c5fe691e451da07a7aa189dc7055",
    "tags": [],
    "deepnote_cell_type": "code",
    "deepnote_cell_height": 65.83332824707031
   },
   "source": "3. Elimina los outliers de ser necesario en la siguiente celda.",
   "execution_count": null,
   "outputs": []
  },
  {
   "cell_type": "code",
   "metadata": {
    "cell_id": "25a182e8574c405396060cbe5c29b4b2",
    "tags": [],
    "deepnote_cell_type": "code",
    "deepnote_cell_height": 65.83332824707031
   },
   "source": "",
   "execution_count": null,
   "outputs": []
  },
  {
   "cell_type": "markdown",
   "source": "### *Clases sugeridas*:\n\nEstadística descriptiva\n- [Medidas de dispersión](https://platzi.com/clases/2353-estadistica-descriptiva/38399-medidas-de-dispersion/?utm_source=contenido&utm_medium=organic&utm_campaign=ejercicio-eda)\n\n- [Desviación estándar](https://platzi.com/clases/2353-estadistica-descriptiva/38400-desviacion-estandar/?utm_source=contenido&utm_medium=organic&utm_campaign=ejercicio-eda)\n\n- [Medidas de dispersión en Python](https://platzi.com/clases/2353-estadistica-descriptiva/38401-medidas-de-dispersion-en-python/?utm_source=contenido&utm_medium=organic&utm_campaign=ejercicio-eda)\n\nGráficas boxplots\n- [Crear otro tipo de gráficas (Boxplot en Matplotlib)](https://platzi.com/clases/2913-matplotlib-seaborn/47945-crear-otro-tipo-de-graficas/?utm_source=contenido&utm_medium=organic&utm_campaign=ejercicio-eda)\n- [Categóricos (Boxplot en Seaborn)](https://platzi.com/clases/2913-matplotlib-seaborn/47950-categoricos/?utm_source=contenido&utm_medium=organic&utm_campaign=ejercicio-eda)",
   "metadata": {
    "cell_id": "9b931087a3ac41f6871615458d083e4e",
    "tags": [],
    "deepnote_cell_type": "markdown",
    "deepnote_cell_height": 299.6333312988281
   }
  },
  {
   "cell_type": "markdown",
   "source": "## Análisis de correlación entre variables\n\nYa que conociste el comportamiento esencial de las características y la variable `quality` es momento de conocer cómo se relacionan entre sí para descubrir si alguna(s) pueden afectar a esta calidad.\n\n1. Crea una matriz de correlación de las variables numéricas del dataset.",
   "metadata": {
    "cell_id": "4f4b9d717a734351a4b400b1042a3de0",
    "tags": [],
    "deepnote_cell_type": "markdown",
    "deepnote_cell_height": 181.03334045410156
   }
  },
  {
   "cell_type": "code",
   "metadata": {
    "cell_id": "69c38fbb43ed44bcaf7685dea2cd0477",
    "tags": [],
    "deepnote_cell_type": "code",
    "deepnote_cell_height": 65.83332824707031
   },
   "source": "",
   "execution_count": null,
   "outputs": []
  },
  {
   "cell_type": "markdown",
   "source": "2. Crea una gráfica tipo heatmap para observar mejor las correlaciones entre variables. ",
   "metadata": {
    "cell_id": "401d860aa0f042a693136be305db2be9",
    "tags": [],
    "deepnote_cell_type": "markdown",
    "deepnote_cell_height": 69.23333740234375
   }
  },
  {
   "cell_type": "code",
   "metadata": {
    "cell_id": "420eaba4b31c42258e8f87ae64936444",
    "tags": [],
    "deepnote_cell_type": "code",
    "deepnote_cell_height": 65.83332824707031
   },
   "source": "",
   "execution_count": null,
   "outputs": []
  },
  {
   "cell_type": "markdown",
   "source": "3. Muestra una tabla con los valores de correlación de cada variable con la variable `quality`.",
   "metadata": {
    "cell_id": "ba7553a7a6df431b9ddc9fe99134acac",
    "tags": [],
    "deepnote_cell_type": "markdown",
    "deepnote_cell_height": 69.23333740234375
   }
  },
  {
   "cell_type": "code",
   "metadata": {
    "cell_id": "593ca5e8504a4af3ad11a817dd3855d8",
    "tags": [],
    "deepnote_cell_type": "code",
    "deepnote_cell_height": 65.83332824707031
   },
   "source": "total_wine.____()[['____']].sort_values(by='____', ascending = False)",
   "execution_count": null,
   "outputs": []
  },
  {
   "cell_type": "markdown",
   "source": "4. Responde las siguientes preguntas:\n\na) ¿Existen variables que tengan correlación positiva con la variable `quality`? ¿Cuáles son?\n\nb) ¿Existen variables que tengan correlación negativa con la variable `quality`? ¿Cuáles son?",
   "metadata": {
    "cell_id": "6e781ef4fa384c799e3215c66e9959df",
    "tags": [],
    "deepnote_cell_type": "markdown",
    "deepnote_cell_height": 128.03334045410156
   }
  },
  {
   "cell_type": "markdown",
   "source": "Las variables que más correlación tienen con la calidad son:\n\na) Positivamente:\n- *escribe aquí tus respuetas*\n\nb) Negativamente:\n- *escribe aquí tus respuetas*",
   "metadata": {
    "cell_id": "752b87ce20b84a988547a0c67423d0ad",
    "tags": [],
    "deepnote_cell_type": "markdown",
    "deepnote_cell_height": 211.8333282470703
   }
  },
  {
   "cell_type": "markdown",
   "source": "5. Crea las gráficas que consideres para ver la correlación que exista entre las variables que encontraste que tienen mayor correlación con la variable `quality`.",
   "metadata": {
    "cell_id": "b2fcf82558be4c67a5640b3e559db1d5",
    "tags": [],
    "deepnote_cell_type": "markdown",
    "deepnote_cell_height": 91.63333129882812
   }
  },
  {
   "cell_type": "code",
   "metadata": {
    "cell_id": "8c6e4fdb7b1742bebbd02e444fbe77a0",
    "tags": [],
    "deepnote_cell_type": "code",
    "deepnote_cell_height": 65.83332824707031
   },
   "source": "",
   "execution_count": null,
   "outputs": []
  },
  {
   "cell_type": "markdown",
   "source": "6. Responde las preguntas: \n\na) ¿Existen variables correlacionadas con la calidad que estén correlacionadas fuertemente entre sí?\n\nb) ¿Esta información para que nos serviría?",
   "metadata": {
    "cell_id": "b53faef38b4c4808bf61302e06ccdde3",
    "tags": [],
    "deepnote_cell_type": "markdown",
    "deepnote_cell_height": 128.03334045410156
   }
  },
  {
   "cell_type": "markdown",
   "source": "*Escribe aquí tu respuesta.*",
   "metadata": {
    "cell_id": "954080e688184399b43fc3bfcffe0d0d",
    "tags": [],
    "deepnote_cell_type": "markdown",
    "deepnote_cell_height": 52.23333740234375
   }
  },
  {
   "cell_type": "markdown",
   "source": "7. Crea gráficas de barras y de violín para ver a detalle cómo las variables que tienen correlación más fuerte con la variable `quality`, afectan a dicha variable.\n\n- En el eje x deberán aparecer las categorías de calidad: Poor, Medium High.\n\n- En el eje y deberá aparecer la variable correspondiente.\n\n- Toma en cuenta los valores máximo y mínimo de cada variable para marcar los límites en el eje y.\n\nAl finalizar obtendrás gráficas como estas:\n\n<img src=/work/density.png>\n<img src=/work/density_violin.png>\n",
   "metadata": {
    "cell_id": "3c0f1c3a025446628d1ae960ec8c8737",
    "tags": [],
    "deepnote_cell_type": "markdown",
    "deepnote_cell_height": 261.23333740234375
   }
  },
  {
   "cell_type": "code",
   "metadata": {
    "cell_id": "bccbdb7e0e5740678599f74c6997395f",
    "tags": [],
    "deepnote_cell_type": "code",
    "deepnote_cell_height": 65.83332824707031
   },
   "source": "",
   "execution_count": null,
   "outputs": []
  },
  {
   "cell_type": "code",
   "metadata": {
    "cell_id": "2702082b96ee4310bffc0135a79c7b72",
    "tags": [],
    "deepnote_cell_type": "code",
    "deepnote_cell_height": 65.83332824707031
   },
   "source": "",
   "execution_count": null,
   "outputs": []
  },
  {
   "cell_type": "code",
   "metadata": {
    "cell_id": "1ef73a243dd34ef6bb4974a085c5fa79",
    "tags": [],
    "deepnote_cell_type": "code",
    "deepnote_cell_height": 65.83332824707031
   },
   "source": "",
   "execution_count": null,
   "outputs": []
  },
  {
   "cell_type": "markdown",
   "source": "8. Responde las siguientes preguntas como conclusiones de este EDA:\n\na) ¿Cuáles son las variables que podrían afectarían a la calidad del vino?\n\nb) ¿Es necesario aumentar o disminuir la cantidad de dichas variables para aumentar la calidad?\n\nc) ¿Cuál es la variable que más podría afectar a la calidad del vino?",
   "metadata": {
    "cell_id": "2ba9d851eeb94f6aadd80ec8c6dc0b9d",
    "tags": [],
    "deepnote_cell_type": "markdown",
    "deepnote_cell_height": 164.43333435058594
   }
  },
  {
   "cell_type": "markdown",
   "source": "*Escribe aquí tus respuestas.*",
   "metadata": {
    "cell_id": "5ffffa09de4b4b3cbb963a3fc369cca3",
    "tags": [],
    "deepnote_cell_type": "markdown",
    "deepnote_cell_height": 52.23333740234375
   }
  },
  {
   "cell_type": "markdown",
   "source": "### *Clases sugeridas*:\n\nEstadística descriptiva y EDA\n- [Correlaciones](https://platzi.com/clases/2353-estadistica-descriptiva/38409-correlaciones/?utm_source=contenido&utm_medium=organic&utm_campaign=ejercicio-eda)\n\n- [Matriz de covarianza](https://platzi.com/clases/2353-estadistica-descriptiva/38410-matriz-de-covarianza/?utm_source=contenido&utm_medium=organic&utm_campaign=ejercicio-eda)\n\n- [Correlación](https://platzi.com/clases/2178-analisis-exploratorio-datos/34151-correlacion/?utm_source=contenido&utm_medium=organic&utm_campaign=ejercicio-eda)\n\nGráficas\n- [Relation (Seaborn)](https://platzi.com/clases/2913-matplotlib-seaborn/47951-relation/?utm_source=contenido&utm_medium=organic&utm_campaign=ejercicio-eda)\n\n- [Heatmap (Seaborn)](https://platzi.com/clases/2913-matplotlib-seaborn/47953-heatmap/?utm_source=contenido&utm_medium=organic&utm_campaign=ejercicio-eda)\n\n- [Jointplot y Pairplot (Seaborn)](https://platzi.com/clases/2913-matplotlib-seaborn/47952-jointplot-y-pairplot/?utm_source=contenido&utm_medium=organic&utm_campaign=ejercicio-eda)\n\n- [Bar Plot (Matplotlib)](https://platzi.com/clases/2913-matplotlib-seaborn/47944-bar-plot/?utm_source=contenido&utm_medium=organic&utm_campaign=ejercicio-eda)\n\n- [Categóricos (Violin plot en Seaborn)](https://platzi.com/clases/2913-matplotlib-seaborn/47950-categoricos/?utm_source=contenido&utm_medium=organic&utm_campaign=ejercicio-eda)",
   "metadata": {
    "cell_id": "5b77e5a9fe5d464b9a62d33ba2ea9721",
    "tags": [],
    "deepnote_cell_type": "markdown",
    "deepnote_cell_height": 375.83331298828125
   }
  },
  {
   "cell_type": "markdown",
   "source": "## Siguientes pasos 🚀",
   "metadata": {
    "cell_id": "42cc8a600e7346029ba3c35880ee269a",
    "tags": [],
    "deepnote_cell_type": "markdown",
    "deepnote_cell_height": 69.83332824707031
   }
  },
  {
   "cell_type": "markdown",
   "source": "---\n\n¡Muchas felicidades! Has creado tu primer proyecto de análisis exploratorio de datos.\n\nEs importante que recuerdes que dentro del análisis exploratorio de datos hay múltiples caminos y herramientas de acuerdo a lo que quieras lograr. Podríamos ir más allá en la manipulación y análisis de datos. Incluso podríamos utilizar machine learning para validar nuestra hipótesis.\n\nEn este momento ya tienes **el primer proyecto para tu portafolio profesional**. Para seguir avanzando en tu carrera te recomendamos el [Curso para Crear tus Proyectos de Ciencia de Datos](https://platzi.com/cursos/proyectos-data-science/?utm_source=contenido&utm_medium=organic&utm_campaign=ejercicio-eda) y el [Curso para Conseguir Trabajo en Tecnología](https://platzi.com/cursos/conseguir-trabajo-tech/?utm_source=contenido&utm_medium=organic&utm_campaign=ejercicio-eda) y tendrás todo para unirte a una startup como Data Analyst o Data Scientist. #StartupReady 🚀",
   "metadata": {
    "cell_id": "9d87087a96e7471d825633f6c267fd55",
    "tags": [],
    "deepnote_cell_type": "markdown",
    "deepnote_cell_height": 215.5500030517578
   }
  },
  {
   "cell_type": "markdown",
   "source": "<a style='text-decoration:none;line-height:16px;display:flex;color:#5B5B62;padding:10px;justify-content:end;' href='https://deepnote.com?utm_source=created-in-deepnote-cell&projectId=32b92291-829a-46c8-a4bc-eebbfab60359' target=\"_blank\">\n<img alt='Created in deepnote.com' style='display:inline;max-height:16px;margin:0px;margin-right:7.5px;' src='data:image/svg+xml;base64,PD94bWwgdmVyc2lvbj0iMS4wIiBlbmNvZGluZz0iVVRGLTgiPz4KPHN2ZyB3aWR0aD0iODBweCIgaGVpZ2h0PSI4MHB4IiB2aWV3Qm94PSIwIDAgODAgODAiIHZlcnNpb249IjEuMSIgeG1sbnM9Imh0dHA6Ly93d3cudzMub3JnLzIwMDAvc3ZnIiB4bWxuczp4bGluaz0iaHR0cDovL3d3dy53My5vcmcvMTk5OS94bGluayI+CiAgICA8IS0tIEdlbmVyYXRvcjogU2tldGNoIDU0LjEgKDc2NDkwKSAtIGh0dHBzOi8vc2tldGNoYXBwLmNvbSAtLT4KICAgIDx0aXRsZT5Hcm91cCAzPC90aXRsZT4KICAgIDxkZXNjPkNyZWF0ZWQgd2l0aCBTa2V0Y2guPC9kZXNjPgogICAgPGcgaWQ9IkxhbmRpbmciIHN0cm9rZT0ibm9uZSIgc3Ryb2tlLXdpZHRoPSIxIiBmaWxsPSJub25lIiBmaWxsLXJ1bGU9ImV2ZW5vZGQiPgogICAgICAgIDxnIGlkPSJBcnRib2FyZCIgdHJhbnNmb3JtPSJ0cmFuc2xhdGUoLTEyMzUuMDAwMDAwLCAtNzkuMDAwMDAwKSI+CiAgICAgICAgICAgIDxnIGlkPSJHcm91cC0zIiB0cmFuc2Zvcm09InRyYW5zbGF0ZSgxMjM1LjAwMDAwMCwgNzkuMDAwMDAwKSI+CiAgICAgICAgICAgICAgICA8cG9seWdvbiBpZD0iUGF0aC0yMCIgZmlsbD0iIzAyNjVCNCIgcG9pbnRzPSIyLjM3NjIzNzYyIDgwIDM4LjA0NzY2NjcgODAgNTcuODIxNzgyMiA3My44MDU3NTkyIDU3LjgyMTc4MjIgMzIuNzU5MjczOSAzOS4xNDAyMjc4IDMxLjY4MzE2ODMiPjwvcG9seWdvbj4KICAgICAgICAgICAgICAgIDxwYXRoIGQ9Ik0zNS4wMDc3MTgsODAgQzQyLjkwNjIwMDcsNzYuNDU0OTM1OCA0Ny41NjQ5MTY3LDcxLjU0MjI2NzEgNDguOTgzODY2LDY1LjI2MTk5MzkgQzUxLjExMjI4OTksNTUuODQxNTg0MiA0MS42NzcxNzk1LDQ5LjIxMjIyODQgMjUuNjIzOTg0Niw0OS4yMTIyMjg0IEMyNS40ODQ5Mjg5LDQ5LjEyNjg0NDggMjkuODI2MTI5Niw0My4yODM4MjQ4IDM4LjY0NzU4NjksMzEuNjgzMTY4MyBMNzIuODcxMjg3MSwzMi41NTQ0MjUgTDY1LjI4MDk3Myw2Ny42NzYzNDIxIEw1MS4xMTIyODk5LDc3LjM3NjE0NCBMMzUuMDA3NzE4LDgwIFoiIGlkPSJQYXRoLTIyIiBmaWxsPSIjMDAyODY4Ij48L3BhdGg+CiAgICAgICAgICAgICAgICA8cGF0aCBkPSJNMCwzNy43MzA0NDA1IEwyNy4xMTQ1MzcsMC4yNTcxMTE0MzYgQzYyLjM3MTUxMjMsLTEuOTkwNzE3MDEgODAsMTAuNTAwMzkyNyA4MCwzNy43MzA0NDA1IEM4MCw2NC45NjA0ODgyIDY0Ljc3NjUwMzgsNzkuMDUwMzQxNCAzNC4zMjk1MTEzLDgwIEM0Ny4wNTUzNDg5LDc3LjU2NzA4MDggNTMuNDE4MjY3Nyw3MC4zMTM2MTAzIDUzLjQxODI2NzcsNTguMjM5NTg4NSBDNTMuNDE4MjY3Nyw0MC4xMjg1NTU3IDM2LjMwMzk1NDQsMzcuNzMwNDQwNSAyNS4yMjc0MTcsMzcuNzMwNDQwNSBDMTcuODQzMDU4NiwzNy43MzA0NDA1IDkuNDMzOTE5NjYsMzcuNzMwNDQwNSAwLDM3LjczMDQ0MDUgWiIgaWQ9IlBhdGgtMTkiIGZpbGw9IiMzNzkzRUYiPjwvcGF0aD4KICAgICAgICAgICAgPC9nPgogICAgICAgIDwvZz4KICAgIDwvZz4KPC9zdmc+' > </img>\nCreated in <span style='font-weight:600;margin-left:4px;'>Deepnote</span></a>",
   "metadata": {
    "tags": [],
    "created_in_deepnote_cell": true,
    "deepnote_cell_type": "markdown"
   }
  }
 ],
 "nbformat": 4,
 "nbformat_minor": 2,
 "metadata": {
  "orig_nbformat": 2,
  "deepnote": {},
  "deepnote_notebook_id": "fef5b63c-2807-4eb5-acf8-851291e42e2c",
  "deepnote_execution_queue": []
 }
}