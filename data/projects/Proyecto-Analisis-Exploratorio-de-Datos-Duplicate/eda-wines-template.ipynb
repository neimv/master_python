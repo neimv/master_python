{
 "cells": [
  {
   "cell_type": "markdown",
   "metadata": {
    "cell_id": "c761e360edd24745a631ee7f55b818af",
    "deepnote_cell_height": 133.8333282470703,
    "deepnote_cell_type": "markdown",
    "tags": []
   },
   "source": [
    "# Proyecto: Análisis Exploratorio de Datos - calidad de vinos"
   ]
  },
  {
   "cell_type": "markdown",
   "metadata": {
    "cell_id": "efe3cd0c80c64b0dacad082cfb09b86f",
    "deepnote_cell_height": 687.2166748046875,
    "deepnote_cell_type": "markdown",
    "owner_user_id": "1ae6166b-14eb-4bce-a097-79efdbfdcb60",
    "tags": []
   },
   "source": [
    "<img src=edawine.png>\n",
    "\n",
    "Esta notebook es parte de un Proyecto de la [Escuela de Data Science e Inteligencia Artificial de Platzi](https://platzi.com/datos).\n",
    "\n",
    "Todos los detalles [aquí](https://platzi.com/blog/ejercicio-eda-wine)."
   ]
  },
  {
   "cell_type": "markdown",
   "metadata": {
    "cell_id": "35af0a5932444e44aa11d533552cec08",
    "deepnote_cell_height": 189.43333435058594,
    "deepnote_cell_type": "markdown",
    "tags": []
   },
   "source": [
    "## Instrucciones generales\n",
    "\n",
    "a) Sigue el paso a paso de cada sección. Para ello tendrás que leer indicaciones para saber qué hacer en cada etapa del EDA.\n",
    "\n",
    "b) Completa el código en las celdas correspondientes para realizar tu análisis exploratorio de datos (EDA). Por ejemplo, encontrarás código incompleto marcado con guiones bajos (____):\n"
   ]
  },
  {
   "cell_type": "code",
   "execution_count": 1,
   "metadata": {
    "cell_id": "eae6571343974fff88b9fa394e58c42b",
    "deepnote_cell_height": 83.83332824707031,
    "deepnote_cell_type": "code",
    "tags": []
   },
   "outputs": [
    {
     "name": "stdout",
     "output_type": "stream",
     "text": [
      "Platzi\n"
     ]
    }
   ],
   "source": [
    "school = 'Platzi'\n",
    "print(school) # Incluir la variable declarada anteriormente."
   ]
  },
  {
   "cell_type": "markdown",
   "metadata": {
    "cell_id": "939f1a1f10f24939810725458d8322c1",
    "deepnote_cell_height": 482.23333740234375,
    "deepnote_cell_type": "markdown",
    "tags": []
   },
   "source": [
    "c) Escribe el código que veas conveniente para desarrollar lo que se pida en el EDA. Encontrarás secciones sin ninguna guía de código para que con tu creatividad uses las herramientas que veas necesarias.\n",
    "\n",
    "d) No te límites. Agrega bloques de código y de Markdown cuando lo necesites.\n",
    "\n",
    "e) Al final de cada sección encontrarás clases específicas de cursos de Platzi. Recuerda que en esos cursos es donde puedes aprender cómo resolver el proyecto. Puedes consultar las clases de manera directa para resolver tus dudas al momento.\n",
    "\n",
    "f) También recuerda que puedes tomar todos esos cursos antes o utilizarlos como fuente de consulta:\n",
    "\n",
    "- [Curso Básico de Python](https://platzi.com/cursos/python/)\n",
    "- [Curso de Entorno de Trabajo para Ciencia de Datos con Jupyter Notebooks y Anaconda](https://platzi.com/cursos/jupyter-notebook/)\n",
    "- [Curso de Python Intermedio: Comprehensions, Lambdas y Manejo de Errores](https://platzi.com/cursos/python-intermedio/)\n",
    "- [Curso de Principios de Visualización de Datos para Business Intelligence](https://platzi.com/cursos/visualizacion-datos/)\n",
    "- [Curso Básico de Manipulación y Transformación de Datos con Pandas y NumPy](https://platzi.com/cursos/pandas-numpy/)\n",
    "- [Curso Básico de Visualización de Datos con Matplotlib y Seaborn](https://platzi.com/cursos/matplotlib-seaborn/)\n",
    "- [Curso de Funciones Matemáticas para Data Science e Inteligencia Artificial](https://platzi.com/cursos/funciones-matematicas/)\n",
    "- [Curso de Matemáticas para Data Science: Estadística Descriptiva](https://platzi.com/cursos/estadistica-descriptiva/)\n",
    "- [Curso de Análisis Exploratorio de Datos](https://platzi.com/cursos/analisis-exploratorio-datos/)\n"
   ]
  },
  {
   "cell_type": "markdown",
   "metadata": {
    "cell_id": "8a87bc0dc02e484dac23698635e08356",
    "deepnote_cell_height": 1498.63330078125,
    "deepnote_cell_type": "markdown",
    "tags": []
   },
   "source": [
    "## Conoce los datos - Vinho Verde\n",
    "\n",
    "1. Lee esta información para tener contexto de los datos que se usarán:\n",
    "\n",
    "Utilizaremos dos datasets enfocados en la calidad de vinos. Ambos se relacionan a las variantes de vino blanco y vino rojo del vino portugués \"Vinho Verde\".\n",
    "\n",
    "<img src=Large186.jpg>\n",
    "\n",
    "La fuente de estos datasets son del Machine Learning Repository de UCI. Puedes conocer más de ellos [aquí](https://archive.ics.uci.edu/ml/datasets/wine+quality).\n",
    "\n",
    "Input variables (based on physicochemical tests):\n",
    "1. fixed acidity / acidez fija\n",
    "La mayoría de los ácidos involucrados con el vino o fijos o no volátiles (no se evaporan fácilmente).\n",
    "\n",
    "2. volatile acidity / acidez volátil\n",
    "La cantidad de ácido acético en el vino, que en niveles demasiado altos puede provocar un sabor desagradable a vinagre.\n",
    "\n",
    "3. citric acid / ácido cítrico\n",
    "Encontrado en pequeñas cantidades el ácido cítrico puede agregar 'frescura' y sabor a los vinos.\n",
    "\n",
    "4. residual sugar / azúcar residual\n",
    "La cantidad de azúcar que queda después de que se detiene la fermentación. Es raro encontrar vinos con menos de 1 gramo/litro y vinos con más de 45 gramos/litro se consideran dulces.\n",
    "\n",
    "5. chlorides / cloruros\n",
    "La cantidad de sal en el vino.\n",
    "\n",
    "6. free sulfur dioxide / dióxido de azufre libre\n",
    "La forma libre de SO2 existe en equilibrio entre el SO2 molecular (como gas disuelto) y el ion bisulfito; previene el crecimiento microbiano y la oxidación del vino.\n",
    "\n",
    "7. total sulfur dioxide / dióxido de azufre total\n",
    "Cantidad de formas libres y ligadas de S02; en bajas concentraciones, el SO2 es mayormente indetectable en el vino, pero en concentraciones de SO2 libres superiores a 50 ppm, el SO2 se vuelve evidente en la nariz y el sabor del vino.\n",
    "\n",
    "8. density / densidad\n",
    "La densidad del agua es cercana a la del agua dependiendo del porcentaje de alcohol y azúcar contenido.\n",
    "\n",
    "9. pH / pH\n",
    "Describe qué tan ácido o básico es un vino en una escala de 0 (muy ácido) a 14 (muy básico); la mayoría de los vinos están entre 3 y 4 en la escala de pH\n",
    "\n",
    "10. sulphates / sulfatos\n",
    "Un aditivo del vino que puede contribuir a los niveles de dióxido de azufre (S02), que actúa como antimicrobiano y antioxidante\n",
    "\n",
    "11. alcohol / alcohol\n",
    "El porcentaje de contenido de alcohol del vino\n",
    "\n",
    "Output variable (based on sensory data):\n",
    "\n",
    "12. quality / calidad\n",
    "Variable de salida o target (basada en datos sensoriales, puntuación entre 0 y 10). Indica qué tan bueno es el vino en este estándar de calidad."
   ]
  },
  {
   "cell_type": "markdown",
   "metadata": {
    "cell_id": "8f7b790f49644d71bcd94239c27a1fb7",
    "deepnote_cell_height": 203.43333435058594,
    "deepnote_cell_type": "markdown",
    "tags": []
   },
   "source": [
    "## Importar librerías\n",
    "\n",
    "1. Ejecuta la siguiente celda para importar librerías.\n",
    "\n",
    "Estas son las librerías de Python esenciales para ejecutar tu EDA. Mientras desarrolles el proyecto puedes agregar las que veas conveninente. \n",
    "\n",
    "Puedes usar cualquiera que conozcas del lenguaje Python."
   ]
  },
  {
   "cell_type": "code",
   "execution_count": 2,
   "metadata": {
    "cell_id": "592e1778-8d21-4cf8-b657-7976236f5474",
    "deepnote_cell_height": 152.8333282470703,
    "deepnote_cell_type": "code",
    "deepnote_to_be_reexecuted": false,
    "execution_millis": 3751,
    "execution_start": 1652127208397,
    "source_hash": "feae4ae9",
    "tags": []
   },
   "outputs": [],
   "source": [
    "import pandas as pd\n",
    "import numpy as np\n",
    "import matplotlib.pyplot as plt\n",
    "import seaborn as sns\n",
    "# agrega librerías que necesites"
   ]
  },
  {
   "cell_type": "markdown",
   "metadata": {
    "cell_id": "a7bb7dc5c46641329547c3c04ede6ed2",
    "deepnote_cell_height": 165.03334045410156,
    "deepnote_cell_type": "markdown",
    "tags": []
   },
   "source": [
    "### *Clases sugeridas*:\n",
    "\n",
    "- [Google Colab: primeros pasos](https://platzi.com/clases/2434-jupyter-notebook/40386-google-colab-primeros-pasos/?utm_source=contenido&utm_medium=organic&utm_campaign=ejercicio-eda)\n",
    "\n",
    "- [Google Colab: ciencia de datos](https://platzi.com/clases/2434-jupyter-notebook/40387-google-colab-ciencia-de-datos/?utm_source=contenido&utm_medium=organic&utm_campaign=ejercicio-eda)\n",
    "\n",
    "- [Utiliza Deepnote](https://platzi.com/clases/2434-jupyter-notebook/40388-utilizar-deepnote/?utm_source=contenido&utm_medium=organic&utm_campaign=ejercicio-eda)"
   ]
  },
  {
   "cell_type": "markdown",
   "metadata": {
    "cell_id": "c4f0cfaff6f94ab29261066b89090b32",
    "deepnote_cell_height": 167.03334045410156,
    "deepnote_cell_type": "markdown",
    "tags": []
   },
   "source": [
    "## Carga de datos\n",
    "\n",
    "1. Carga los datasets directo de sus URL como se muestran en la siguiente celda.\n",
    "\n",
    "Nota: alternativamente podríamos cargar los datos con los archivos csv, pero con las URL los podemos tener de forma más directa desde la fuente."
   ]
  },
  {
   "cell_type": "code",
   "execution_count": 3,
   "metadata": {
    "cell_id": "c256a670082f47c2b646e7bbe383c772",
    "deepnote_cell_height": 98.83332824707031,
    "deepnote_cell_type": "code",
    "deepnote_to_be_reexecuted": false,
    "execution_millis": 1,
    "execution_start": 1652127269000,
    "source_hash": "8b595c46",
    "tags": []
   },
   "outputs": [],
   "source": [
    "url_wine_red = 'https://archive.ics.uci.edu/ml/machine-learning-databases/wine-quality/winequality-red.csv'\n",
    "url_wine_white = 'https://archive.ics.uci.edu/ml/machine-learning-databases/wine-quality/winequality-white.csv'"
   ]
  },
  {
   "cell_type": "markdown",
   "metadata": {
    "cell_id": "c97f986f765546aba07a92689457585d",
    "deepnote_cell_height": 91.63333129882812,
    "deepnote_cell_type": "markdown",
    "tags": []
   },
   "source": [
    "2. Utiliza Pandas para crear tus DataFrames utilizando las dos variables que creaste para cargar los datos. \n",
    "\n",
    "Toma en cuenta que el delimiter de los archivos csv es `;`"
   ]
  },
  {
   "cell_type": "code",
   "execution_count": 4,
   "metadata": {
    "cell_id": "f9445d0b607849308733358bde7ceccc",
    "deepnote_cell_height": 83.83332824707031,
    "deepnote_cell_type": "code",
    "tags": []
   },
   "outputs": [],
   "source": [
    "red = pd.read_csv(url_wine_red, delimiter=\";\")\n",
    "white = pd.read_csv(url_wine_red, delimiter=\";\")"
   ]
  },
  {
   "cell_type": "markdown",
   "metadata": {
    "cell_id": "b7d71d4e8a7d4ff3ac6080509e68756b",
    "deepnote_cell_height": 69.23333740234375,
    "deepnote_cell_type": "markdown",
    "tags": []
   },
   "source": [
    "3. Carga las primeras 5 filas de ambos DataFrames."
   ]
  },
  {
   "cell_type": "code",
   "execution_count": 5,
   "metadata": {
    "cell_id": "3c10be88dd064000875addb897a83065",
    "deepnote_cell_height": 65.83332824707031,
    "deepnote_cell_type": "code",
    "tags": []
   },
   "outputs": [
    {
     "data": {
      "text/html": [
       "<div>\n",
       "<style scoped>\n",
       "    .dataframe tbody tr th:only-of-type {\n",
       "        vertical-align: middle;\n",
       "    }\n",
       "\n",
       "    .dataframe tbody tr th {\n",
       "        vertical-align: top;\n",
       "    }\n",
       "\n",
       "    .dataframe thead th {\n",
       "        text-align: right;\n",
       "    }\n",
       "</style>\n",
       "<table border=\"1\" class=\"dataframe\">\n",
       "  <thead>\n",
       "    <tr style=\"text-align: right;\">\n",
       "      <th></th>\n",
       "      <th>fixed acidity</th>\n",
       "      <th>volatile acidity</th>\n",
       "      <th>citric acid</th>\n",
       "      <th>residual sugar</th>\n",
       "      <th>chlorides</th>\n",
       "      <th>free sulfur dioxide</th>\n",
       "      <th>total sulfur dioxide</th>\n",
       "      <th>density</th>\n",
       "      <th>pH</th>\n",
       "      <th>sulphates</th>\n",
       "      <th>alcohol</th>\n",
       "      <th>quality</th>\n",
       "    </tr>\n",
       "  </thead>\n",
       "  <tbody>\n",
       "    <tr>\n",
       "      <th>0</th>\n",
       "      <td>7.4</td>\n",
       "      <td>0.70</td>\n",
       "      <td>0.00</td>\n",
       "      <td>1.9</td>\n",
       "      <td>0.076</td>\n",
       "      <td>11.0</td>\n",
       "      <td>34.0</td>\n",
       "      <td>0.9978</td>\n",
       "      <td>3.51</td>\n",
       "      <td>0.56</td>\n",
       "      <td>9.4</td>\n",
       "      <td>5</td>\n",
       "    </tr>\n",
       "    <tr>\n",
       "      <th>1</th>\n",
       "      <td>7.8</td>\n",
       "      <td>0.88</td>\n",
       "      <td>0.00</td>\n",
       "      <td>2.6</td>\n",
       "      <td>0.098</td>\n",
       "      <td>25.0</td>\n",
       "      <td>67.0</td>\n",
       "      <td>0.9968</td>\n",
       "      <td>3.20</td>\n",
       "      <td>0.68</td>\n",
       "      <td>9.8</td>\n",
       "      <td>5</td>\n",
       "    </tr>\n",
       "    <tr>\n",
       "      <th>2</th>\n",
       "      <td>7.8</td>\n",
       "      <td>0.76</td>\n",
       "      <td>0.04</td>\n",
       "      <td>2.3</td>\n",
       "      <td>0.092</td>\n",
       "      <td>15.0</td>\n",
       "      <td>54.0</td>\n",
       "      <td>0.9970</td>\n",
       "      <td>3.26</td>\n",
       "      <td>0.65</td>\n",
       "      <td>9.8</td>\n",
       "      <td>5</td>\n",
       "    </tr>\n",
       "    <tr>\n",
       "      <th>3</th>\n",
       "      <td>11.2</td>\n",
       "      <td>0.28</td>\n",
       "      <td>0.56</td>\n",
       "      <td>1.9</td>\n",
       "      <td>0.075</td>\n",
       "      <td>17.0</td>\n",
       "      <td>60.0</td>\n",
       "      <td>0.9980</td>\n",
       "      <td>3.16</td>\n",
       "      <td>0.58</td>\n",
       "      <td>9.8</td>\n",
       "      <td>6</td>\n",
       "    </tr>\n",
       "    <tr>\n",
       "      <th>4</th>\n",
       "      <td>7.4</td>\n",
       "      <td>0.70</td>\n",
       "      <td>0.00</td>\n",
       "      <td>1.9</td>\n",
       "      <td>0.076</td>\n",
       "      <td>11.0</td>\n",
       "      <td>34.0</td>\n",
       "      <td>0.9978</td>\n",
       "      <td>3.51</td>\n",
       "      <td>0.56</td>\n",
       "      <td>9.4</td>\n",
       "      <td>5</td>\n",
       "    </tr>\n",
       "  </tbody>\n",
       "</table>\n",
       "</div>"
      ],
      "text/plain": [
       "   fixed acidity  volatile acidity  citric acid  residual sugar  chlorides  \\\n",
       "0            7.4              0.70         0.00             1.9      0.076   \n",
       "1            7.8              0.88         0.00             2.6      0.098   \n",
       "2            7.8              0.76         0.04             2.3      0.092   \n",
       "3           11.2              0.28         0.56             1.9      0.075   \n",
       "4            7.4              0.70         0.00             1.9      0.076   \n",
       "\n",
       "   free sulfur dioxide  total sulfur dioxide  density    pH  sulphates  \\\n",
       "0                 11.0                  34.0   0.9978  3.51       0.56   \n",
       "1                 25.0                  67.0   0.9968  3.20       0.68   \n",
       "2                 15.0                  54.0   0.9970  3.26       0.65   \n",
       "3                 17.0                  60.0   0.9980  3.16       0.58   \n",
       "4                 11.0                  34.0   0.9978  3.51       0.56   \n",
       "\n",
       "   alcohol  quality  \n",
       "0      9.4        5  \n",
       "1      9.8        5  \n",
       "2      9.8        5  \n",
       "3      9.8        6  \n",
       "4      9.4        5  "
      ]
     },
     "execution_count": 5,
     "metadata": {},
     "output_type": "execute_result"
    }
   ],
   "source": [
    "red.head()"
   ]
  },
  {
   "cell_type": "code",
   "execution_count": 6,
   "metadata": {},
   "outputs": [
    {
     "data": {
      "text/html": [
       "<div>\n",
       "<style scoped>\n",
       "    .dataframe tbody tr th:only-of-type {\n",
       "        vertical-align: middle;\n",
       "    }\n",
       "\n",
       "    .dataframe tbody tr th {\n",
       "        vertical-align: top;\n",
       "    }\n",
       "\n",
       "    .dataframe thead th {\n",
       "        text-align: right;\n",
       "    }\n",
       "</style>\n",
       "<table border=\"1\" class=\"dataframe\">\n",
       "  <thead>\n",
       "    <tr style=\"text-align: right;\">\n",
       "      <th></th>\n",
       "      <th>fixed acidity</th>\n",
       "      <th>volatile acidity</th>\n",
       "      <th>citric acid</th>\n",
       "      <th>residual sugar</th>\n",
       "      <th>chlorides</th>\n",
       "      <th>free sulfur dioxide</th>\n",
       "      <th>total sulfur dioxide</th>\n",
       "      <th>density</th>\n",
       "      <th>pH</th>\n",
       "      <th>sulphates</th>\n",
       "      <th>alcohol</th>\n",
       "      <th>quality</th>\n",
       "    </tr>\n",
       "  </thead>\n",
       "  <tbody>\n",
       "    <tr>\n",
       "      <th>0</th>\n",
       "      <td>7.4</td>\n",
       "      <td>0.70</td>\n",
       "      <td>0.00</td>\n",
       "      <td>1.9</td>\n",
       "      <td>0.076</td>\n",
       "      <td>11.0</td>\n",
       "      <td>34.0</td>\n",
       "      <td>0.9978</td>\n",
       "      <td>3.51</td>\n",
       "      <td>0.56</td>\n",
       "      <td>9.4</td>\n",
       "      <td>5</td>\n",
       "    </tr>\n",
       "    <tr>\n",
       "      <th>1</th>\n",
       "      <td>7.8</td>\n",
       "      <td>0.88</td>\n",
       "      <td>0.00</td>\n",
       "      <td>2.6</td>\n",
       "      <td>0.098</td>\n",
       "      <td>25.0</td>\n",
       "      <td>67.0</td>\n",
       "      <td>0.9968</td>\n",
       "      <td>3.20</td>\n",
       "      <td>0.68</td>\n",
       "      <td>9.8</td>\n",
       "      <td>5</td>\n",
       "    </tr>\n",
       "    <tr>\n",
       "      <th>2</th>\n",
       "      <td>7.8</td>\n",
       "      <td>0.76</td>\n",
       "      <td>0.04</td>\n",
       "      <td>2.3</td>\n",
       "      <td>0.092</td>\n",
       "      <td>15.0</td>\n",
       "      <td>54.0</td>\n",
       "      <td>0.9970</td>\n",
       "      <td>3.26</td>\n",
       "      <td>0.65</td>\n",
       "      <td>9.8</td>\n",
       "      <td>5</td>\n",
       "    </tr>\n",
       "    <tr>\n",
       "      <th>3</th>\n",
       "      <td>11.2</td>\n",
       "      <td>0.28</td>\n",
       "      <td>0.56</td>\n",
       "      <td>1.9</td>\n",
       "      <td>0.075</td>\n",
       "      <td>17.0</td>\n",
       "      <td>60.0</td>\n",
       "      <td>0.9980</td>\n",
       "      <td>3.16</td>\n",
       "      <td>0.58</td>\n",
       "      <td>9.8</td>\n",
       "      <td>6</td>\n",
       "    </tr>\n",
       "    <tr>\n",
       "      <th>4</th>\n",
       "      <td>7.4</td>\n",
       "      <td>0.70</td>\n",
       "      <td>0.00</td>\n",
       "      <td>1.9</td>\n",
       "      <td>0.076</td>\n",
       "      <td>11.0</td>\n",
       "      <td>34.0</td>\n",
       "      <td>0.9978</td>\n",
       "      <td>3.51</td>\n",
       "      <td>0.56</td>\n",
       "      <td>9.4</td>\n",
       "      <td>5</td>\n",
       "    </tr>\n",
       "  </tbody>\n",
       "</table>\n",
       "</div>"
      ],
      "text/plain": [
       "   fixed acidity  volatile acidity  citric acid  residual sugar  chlorides  \\\n",
       "0            7.4              0.70         0.00             1.9      0.076   \n",
       "1            7.8              0.88         0.00             2.6      0.098   \n",
       "2            7.8              0.76         0.04             2.3      0.092   \n",
       "3           11.2              0.28         0.56             1.9      0.075   \n",
       "4            7.4              0.70         0.00             1.9      0.076   \n",
       "\n",
       "   free sulfur dioxide  total sulfur dioxide  density    pH  sulphates  \\\n",
       "0                 11.0                  34.0   0.9978  3.51       0.56   \n",
       "1                 25.0                  67.0   0.9968  3.20       0.68   \n",
       "2                 15.0                  54.0   0.9970  3.26       0.65   \n",
       "3                 17.0                  60.0   0.9980  3.16       0.58   \n",
       "4                 11.0                  34.0   0.9978  3.51       0.56   \n",
       "\n",
       "   alcohol  quality  \n",
       "0      9.4        5  \n",
       "1      9.8        5  \n",
       "2      9.8        5  \n",
       "3      9.8        6  \n",
       "4      9.4        5  "
      ]
     },
     "execution_count": 6,
     "metadata": {},
     "output_type": "execute_result"
    }
   ],
   "source": [
    "white.head()"
   ]
  },
  {
   "cell_type": "markdown",
   "metadata": {
    "cell_id": "b5a166b124d4495aa94af1b517ad7eb8",
    "deepnote_cell_height": 139.63333129882812,
    "deepnote_cell_type": "markdown",
    "tags": []
   },
   "source": [
    "### *Clases sugeridas*:\n",
    "\n",
    "- [Series y DataFrames en Pandas](https://platzi.com/clases/2912-pandas-numpy/47984-series-y-dataframes-en-pandas/?utm_source=contenido&utm_medium=organic&utm_campaign=ejercicio-eda)\n",
    "- [Leer archivos CSV y JSON con Pandas](https://platzi.com/clases/2912-pandas-numpy/47985-leer-archivos-csv-y-json-con-pandas/?utm_source=contenido&utm_medium=organic&utm_campaign=ejercicio-eda)"
   ]
  },
  {
   "cell_type": "markdown",
   "metadata": {
    "cell_id": "ed480474e2344e0d95172c6b75dc67c8",
    "deepnote_cell_height": 144.63333129882812,
    "deepnote_cell_type": "markdown",
    "tags": []
   },
   "source": [
    "## Combina ambos DataFrames\n",
    "\n",
    "1. Incluye una variable llamada `category` a cada DataFrame que indiqué si el vino es rojo (red) o blanco (white). Esto servirá para distinguir el tipo de vino de cada fila/registro al unir los DataFrames."
   ]
  },
  {
   "cell_type": "code",
   "execution_count": 7,
   "metadata": {
    "cell_id": "9b49c89f5fa242e19d2f07d7de95dbcd",
    "deepnote_cell_height": 83.83332824707031,
    "deepnote_cell_type": "code",
    "tags": []
   },
   "outputs": [],
   "source": [
    "red['category'] = 'red'\n",
    "white['category'] = 'white'"
   ]
  },
  {
   "cell_type": "markdown",
   "metadata": {
    "cell_id": "ccdc6fa6feb5473e930b23664eb6e459",
    "deepnote_cell_height": 69.23333740234375,
    "deepnote_cell_type": "markdown",
    "tags": []
   },
   "source": [
    "2. Utiliza Pandas para unir ambos registros de los dos DataFrames."
   ]
  },
  {
   "cell_type": "code",
   "execution_count": 8,
   "metadata": {
    "cell_id": "53013357230f4ad09a76c7f10c29e700",
    "deepnote_cell_height": 65.83332824707031,
    "deepnote_cell_type": "code",
    "tags": []
   },
   "outputs": [],
   "source": [
    "total_wine = pd.concat([red, white], ignore_index=True)"
   ]
  },
  {
   "cell_type": "markdown",
   "metadata": {
    "cell_id": "1d99c5db77ad419fbb4872f221b56af0",
    "deepnote_cell_height": 91.63333129882812,
    "deepnote_cell_type": "markdown",
    "tags": []
   },
   "source": [
    "3. Comprueba que el DataFrame este completo viendo sus primeras filas. Ve que la columna category esté con los datos correctos."
   ]
  },
  {
   "cell_type": "code",
   "execution_count": 9,
   "metadata": {
    "cell_id": "a6ee46dd889546cf9a67c5eed6e79a4a",
    "deepnote_cell_height": 65.83332824707031,
    "deepnote_cell_type": "code",
    "tags": []
   },
   "outputs": [
    {
     "data": {
      "text/html": [
       "<div>\n",
       "<style scoped>\n",
       "    .dataframe tbody tr th:only-of-type {\n",
       "        vertical-align: middle;\n",
       "    }\n",
       "\n",
       "    .dataframe tbody tr th {\n",
       "        vertical-align: top;\n",
       "    }\n",
       "\n",
       "    .dataframe thead th {\n",
       "        text-align: right;\n",
       "    }\n",
       "</style>\n",
       "<table border=\"1\" class=\"dataframe\">\n",
       "  <thead>\n",
       "    <tr style=\"text-align: right;\">\n",
       "      <th></th>\n",
       "      <th>fixed acidity</th>\n",
       "      <th>volatile acidity</th>\n",
       "      <th>citric acid</th>\n",
       "      <th>residual sugar</th>\n",
       "      <th>chlorides</th>\n",
       "      <th>free sulfur dioxide</th>\n",
       "      <th>total sulfur dioxide</th>\n",
       "      <th>density</th>\n",
       "      <th>pH</th>\n",
       "      <th>sulphates</th>\n",
       "      <th>alcohol</th>\n",
       "      <th>quality</th>\n",
       "      <th>category</th>\n",
       "    </tr>\n",
       "  </thead>\n",
       "  <tbody>\n",
       "    <tr>\n",
       "      <th>0</th>\n",
       "      <td>7.4</td>\n",
       "      <td>0.70</td>\n",
       "      <td>0.00</td>\n",
       "      <td>1.9</td>\n",
       "      <td>0.076</td>\n",
       "      <td>11.0</td>\n",
       "      <td>34.0</td>\n",
       "      <td>0.9978</td>\n",
       "      <td>3.51</td>\n",
       "      <td>0.56</td>\n",
       "      <td>9.4</td>\n",
       "      <td>5</td>\n",
       "      <td>red</td>\n",
       "    </tr>\n",
       "    <tr>\n",
       "      <th>1</th>\n",
       "      <td>7.8</td>\n",
       "      <td>0.88</td>\n",
       "      <td>0.00</td>\n",
       "      <td>2.6</td>\n",
       "      <td>0.098</td>\n",
       "      <td>25.0</td>\n",
       "      <td>67.0</td>\n",
       "      <td>0.9968</td>\n",
       "      <td>3.20</td>\n",
       "      <td>0.68</td>\n",
       "      <td>9.8</td>\n",
       "      <td>5</td>\n",
       "      <td>red</td>\n",
       "    </tr>\n",
       "    <tr>\n",
       "      <th>2</th>\n",
       "      <td>7.8</td>\n",
       "      <td>0.76</td>\n",
       "      <td>0.04</td>\n",
       "      <td>2.3</td>\n",
       "      <td>0.092</td>\n",
       "      <td>15.0</td>\n",
       "      <td>54.0</td>\n",
       "      <td>0.9970</td>\n",
       "      <td>3.26</td>\n",
       "      <td>0.65</td>\n",
       "      <td>9.8</td>\n",
       "      <td>5</td>\n",
       "      <td>red</td>\n",
       "    </tr>\n",
       "    <tr>\n",
       "      <th>3</th>\n",
       "      <td>11.2</td>\n",
       "      <td>0.28</td>\n",
       "      <td>0.56</td>\n",
       "      <td>1.9</td>\n",
       "      <td>0.075</td>\n",
       "      <td>17.0</td>\n",
       "      <td>60.0</td>\n",
       "      <td>0.9980</td>\n",
       "      <td>3.16</td>\n",
       "      <td>0.58</td>\n",
       "      <td>9.8</td>\n",
       "      <td>6</td>\n",
       "      <td>red</td>\n",
       "    </tr>\n",
       "    <tr>\n",
       "      <th>4</th>\n",
       "      <td>7.4</td>\n",
       "      <td>0.70</td>\n",
       "      <td>0.00</td>\n",
       "      <td>1.9</td>\n",
       "      <td>0.076</td>\n",
       "      <td>11.0</td>\n",
       "      <td>34.0</td>\n",
       "      <td>0.9978</td>\n",
       "      <td>3.51</td>\n",
       "      <td>0.56</td>\n",
       "      <td>9.4</td>\n",
       "      <td>5</td>\n",
       "      <td>red</td>\n",
       "    </tr>\n",
       "  </tbody>\n",
       "</table>\n",
       "</div>"
      ],
      "text/plain": [
       "   fixed acidity  volatile acidity  citric acid  residual sugar  chlorides  \\\n",
       "0            7.4              0.70         0.00             1.9      0.076   \n",
       "1            7.8              0.88         0.00             2.6      0.098   \n",
       "2            7.8              0.76         0.04             2.3      0.092   \n",
       "3           11.2              0.28         0.56             1.9      0.075   \n",
       "4            7.4              0.70         0.00             1.9      0.076   \n",
       "\n",
       "   free sulfur dioxide  total sulfur dioxide  density    pH  sulphates  \\\n",
       "0                 11.0                  34.0   0.9978  3.51       0.56   \n",
       "1                 25.0                  67.0   0.9968  3.20       0.68   \n",
       "2                 15.0                  54.0   0.9970  3.26       0.65   \n",
       "3                 17.0                  60.0   0.9980  3.16       0.58   \n",
       "4                 11.0                  34.0   0.9978  3.51       0.56   \n",
       "\n",
       "   alcohol  quality category  \n",
       "0      9.4        5      red  \n",
       "1      9.8        5      red  \n",
       "2      9.8        5      red  \n",
       "3      9.8        6      red  \n",
       "4      9.4        5      red  "
      ]
     },
     "execution_count": 9,
     "metadata": {},
     "output_type": "execute_result"
    }
   ],
   "source": [
    "total_wine.head()"
   ]
  },
  {
   "cell_type": "markdown",
   "metadata": {
    "cell_id": "79d9e9cdaacc4adc92adfe47f5762916",
    "deepnote_cell_height": 114.23333740234375,
    "deepnote_cell_type": "markdown",
    "tags": []
   },
   "source": [
    "### *Clases sugeridas*:\n",
    "\n",
    "- [Agregar o eliminar datos con Pandas](https://platzi.com/clases/2912-pandas-numpy/47987-agregar-o-eliminar-datos-con-pandas/?utm_source=contenido&utm_medium=organic&utm_campaign=ejercicio-eda)"
   ]
  },
  {
   "cell_type": "markdown",
   "metadata": {
    "cell_id": "2a56ed49ffee483e83a5308b51358fd7",
    "deepnote_cell_height": 122.23333740234375,
    "deepnote_cell_type": "markdown",
    "tags": []
   },
   "source": [
    "## Exploración inicial de los datos y validación\n",
    "\n",
    "1. Consigue la cantidad de filas y columnas del DataFrame."
   ]
  },
  {
   "cell_type": "code",
   "execution_count": 10,
   "metadata": {
    "cell_id": "fd39d7d00be04069bcc21278833739f5",
    "deepnote_cell_height": 65.83332824707031,
    "deepnote_cell_type": "code",
    "tags": []
   },
   "outputs": [
    {
     "data": {
      "text/plain": [
       "'total of rows = 3198, total of columns = 13'"
      ]
     },
     "execution_count": 10,
     "metadata": {},
     "output_type": "execute_result"
    }
   ],
   "source": [
    "size = total_wine.shape\n",
    "repr_string = f'total of rows = {size[0]}, total of columns = {size[1]}'\n",
    "repr_string"
   ]
  },
  {
   "cell_type": "markdown",
   "metadata": {
    "cell_id": "e51d856ceed541f0a29750ab4552a3a2",
    "deepnote_cell_height": 69.23333740234375,
    "deepnote_cell_type": "markdown",
    "tags": []
   },
   "source": [
    "2. Conoce los tipos de datos de cada característica/variable y si tienen valores nulos."
   ]
  },
  {
   "cell_type": "code",
   "execution_count": 11,
   "metadata": {
    "cell_id": "fc12edc856944ab1b8f30b1618e03f7a",
    "deepnote_cell_height": 65.83332824707031,
    "deepnote_cell_type": "code",
    "tags": []
   },
   "outputs": [
    {
     "data": {
      "text/plain": [
       "fixed acidity           float64\n",
       "volatile acidity        float64\n",
       "citric acid             float64\n",
       "residual sugar          float64\n",
       "chlorides               float64\n",
       "free sulfur dioxide     float64\n",
       "total sulfur dioxide    float64\n",
       "density                 float64\n",
       "pH                      float64\n",
       "sulphates               float64\n",
       "alcohol                 float64\n",
       "quality                   int64\n",
       "category                 object\n",
       "dtype: object"
      ]
     },
     "execution_count": 11,
     "metadata": {},
     "output_type": "execute_result"
    }
   ],
   "source": [
    "total_wine.dtypes"
   ]
  },
  {
   "cell_type": "markdown",
   "metadata": {
    "cell_id": "de1604ee55d2490d98427e335886f161",
    "deepnote_cell_height": 114.03334045410156,
    "deepnote_cell_type": "markdown",
    "tags": []
   },
   "source": [
    "3. Cálcula las estadísticas descriptivas del dataset. Observa a detalle las estadísticas e identifica si existen diferencias altas entre cada percentil y en los percentilees extremos con valores máximos y mínimos de cada característica/variable."
   ]
  },
  {
   "cell_type": "code",
   "execution_count": 12,
   "metadata": {
    "cell_id": "583b8db0a2ed4a14a95154143bc43559",
    "deepnote_cell_height": 65.83332824707031,
    "deepnote_cell_type": "code",
    "tags": []
   },
   "outputs": [
    {
     "data": {
      "text/html": [
       "<div>\n",
       "<style scoped>\n",
       "    .dataframe tbody tr th:only-of-type {\n",
       "        vertical-align: middle;\n",
       "    }\n",
       "\n",
       "    .dataframe tbody tr th {\n",
       "        vertical-align: top;\n",
       "    }\n",
       "\n",
       "    .dataframe thead th {\n",
       "        text-align: right;\n",
       "    }\n",
       "</style>\n",
       "<table border=\"1\" class=\"dataframe\">\n",
       "  <thead>\n",
       "    <tr style=\"text-align: right;\">\n",
       "      <th></th>\n",
       "      <th>fixed acidity</th>\n",
       "      <th>volatile acidity</th>\n",
       "      <th>citric acid</th>\n",
       "      <th>residual sugar</th>\n",
       "      <th>chlorides</th>\n",
       "      <th>free sulfur dioxide</th>\n",
       "      <th>total sulfur dioxide</th>\n",
       "      <th>density</th>\n",
       "      <th>pH</th>\n",
       "      <th>sulphates</th>\n",
       "      <th>alcohol</th>\n",
       "      <th>quality</th>\n",
       "      <th>category</th>\n",
       "    </tr>\n",
       "  </thead>\n",
       "  <tbody>\n",
       "    <tr>\n",
       "      <th>count</th>\n",
       "      <td>3198.000000</td>\n",
       "      <td>3198.000000</td>\n",
       "      <td>3198.000000</td>\n",
       "      <td>3198.000000</td>\n",
       "      <td>3198.000000</td>\n",
       "      <td>3198.000000</td>\n",
       "      <td>3198.000000</td>\n",
       "      <td>3198.000000</td>\n",
       "      <td>3198.000000</td>\n",
       "      <td>3198.000000</td>\n",
       "      <td>3198.000000</td>\n",
       "      <td>3198.000000</td>\n",
       "      <td>3198</td>\n",
       "    </tr>\n",
       "    <tr>\n",
       "      <th>unique</th>\n",
       "      <td>NaN</td>\n",
       "      <td>NaN</td>\n",
       "      <td>NaN</td>\n",
       "      <td>NaN</td>\n",
       "      <td>NaN</td>\n",
       "      <td>NaN</td>\n",
       "      <td>NaN</td>\n",
       "      <td>NaN</td>\n",
       "      <td>NaN</td>\n",
       "      <td>NaN</td>\n",
       "      <td>NaN</td>\n",
       "      <td>NaN</td>\n",
       "      <td>2</td>\n",
       "    </tr>\n",
       "    <tr>\n",
       "      <th>top</th>\n",
       "      <td>NaN</td>\n",
       "      <td>NaN</td>\n",
       "      <td>NaN</td>\n",
       "      <td>NaN</td>\n",
       "      <td>NaN</td>\n",
       "      <td>NaN</td>\n",
       "      <td>NaN</td>\n",
       "      <td>NaN</td>\n",
       "      <td>NaN</td>\n",
       "      <td>NaN</td>\n",
       "      <td>NaN</td>\n",
       "      <td>NaN</td>\n",
       "      <td>red</td>\n",
       "    </tr>\n",
       "    <tr>\n",
       "      <th>freq</th>\n",
       "      <td>NaN</td>\n",
       "      <td>NaN</td>\n",
       "      <td>NaN</td>\n",
       "      <td>NaN</td>\n",
       "      <td>NaN</td>\n",
       "      <td>NaN</td>\n",
       "      <td>NaN</td>\n",
       "      <td>NaN</td>\n",
       "      <td>NaN</td>\n",
       "      <td>NaN</td>\n",
       "      <td>NaN</td>\n",
       "      <td>NaN</td>\n",
       "      <td>1599</td>\n",
       "    </tr>\n",
       "    <tr>\n",
       "      <th>mean</th>\n",
       "      <td>8.319637</td>\n",
       "      <td>0.527821</td>\n",
       "      <td>0.270976</td>\n",
       "      <td>2.538806</td>\n",
       "      <td>0.087467</td>\n",
       "      <td>15.874922</td>\n",
       "      <td>46.467792</td>\n",
       "      <td>0.996747</td>\n",
       "      <td>3.311113</td>\n",
       "      <td>0.658149</td>\n",
       "      <td>10.422983</td>\n",
       "      <td>5.636023</td>\n",
       "      <td>NaN</td>\n",
       "    </tr>\n",
       "    <tr>\n",
       "      <th>std</th>\n",
       "      <td>1.740824</td>\n",
       "      <td>0.179032</td>\n",
       "      <td>0.194771</td>\n",
       "      <td>1.409708</td>\n",
       "      <td>0.047058</td>\n",
       "      <td>10.458521</td>\n",
       "      <td>32.890179</td>\n",
       "      <td>0.001887</td>\n",
       "      <td>0.154362</td>\n",
       "      <td>0.169480</td>\n",
       "      <td>1.065501</td>\n",
       "      <td>0.807443</td>\n",
       "      <td>NaN</td>\n",
       "    </tr>\n",
       "    <tr>\n",
       "      <th>min</th>\n",
       "      <td>4.600000</td>\n",
       "      <td>0.120000</td>\n",
       "      <td>0.000000</td>\n",
       "      <td>0.900000</td>\n",
       "      <td>0.012000</td>\n",
       "      <td>1.000000</td>\n",
       "      <td>6.000000</td>\n",
       "      <td>0.990070</td>\n",
       "      <td>2.740000</td>\n",
       "      <td>0.330000</td>\n",
       "      <td>8.400000</td>\n",
       "      <td>3.000000</td>\n",
       "      <td>NaN</td>\n",
       "    </tr>\n",
       "    <tr>\n",
       "      <th>25%</th>\n",
       "      <td>7.100000</td>\n",
       "      <td>0.390000</td>\n",
       "      <td>0.090000</td>\n",
       "      <td>1.900000</td>\n",
       "      <td>0.070000</td>\n",
       "      <td>7.000000</td>\n",
       "      <td>22.000000</td>\n",
       "      <td>0.995600</td>\n",
       "      <td>3.210000</td>\n",
       "      <td>0.550000</td>\n",
       "      <td>9.500000</td>\n",
       "      <td>5.000000</td>\n",
       "      <td>NaN</td>\n",
       "    </tr>\n",
       "    <tr>\n",
       "      <th>50%</th>\n",
       "      <td>7.900000</td>\n",
       "      <td>0.520000</td>\n",
       "      <td>0.260000</td>\n",
       "      <td>2.200000</td>\n",
       "      <td>0.079000</td>\n",
       "      <td>14.000000</td>\n",
       "      <td>38.000000</td>\n",
       "      <td>0.996750</td>\n",
       "      <td>3.310000</td>\n",
       "      <td>0.620000</td>\n",
       "      <td>10.200000</td>\n",
       "      <td>6.000000</td>\n",
       "      <td>NaN</td>\n",
       "    </tr>\n",
       "    <tr>\n",
       "      <th>75%</th>\n",
       "      <td>9.200000</td>\n",
       "      <td>0.640000</td>\n",
       "      <td>0.420000</td>\n",
       "      <td>2.600000</td>\n",
       "      <td>0.090000</td>\n",
       "      <td>21.000000</td>\n",
       "      <td>62.000000</td>\n",
       "      <td>0.997837</td>\n",
       "      <td>3.400000</td>\n",
       "      <td>0.730000</td>\n",
       "      <td>11.100000</td>\n",
       "      <td>6.000000</td>\n",
       "      <td>NaN</td>\n",
       "    </tr>\n",
       "    <tr>\n",
       "      <th>max</th>\n",
       "      <td>15.900000</td>\n",
       "      <td>1.580000</td>\n",
       "      <td>1.000000</td>\n",
       "      <td>15.500000</td>\n",
       "      <td>0.611000</td>\n",
       "      <td>72.000000</td>\n",
       "      <td>289.000000</td>\n",
       "      <td>1.003690</td>\n",
       "      <td>4.010000</td>\n",
       "      <td>2.000000</td>\n",
       "      <td>14.900000</td>\n",
       "      <td>8.000000</td>\n",
       "      <td>NaN</td>\n",
       "    </tr>\n",
       "  </tbody>\n",
       "</table>\n",
       "</div>"
      ],
      "text/plain": [
       "        fixed acidity  volatile acidity  citric acid  residual sugar  \\\n",
       "count     3198.000000       3198.000000  3198.000000     3198.000000   \n",
       "unique            NaN               NaN          NaN             NaN   \n",
       "top               NaN               NaN          NaN             NaN   \n",
       "freq              NaN               NaN          NaN             NaN   \n",
       "mean         8.319637          0.527821     0.270976        2.538806   \n",
       "std          1.740824          0.179032     0.194771        1.409708   \n",
       "min          4.600000          0.120000     0.000000        0.900000   \n",
       "25%          7.100000          0.390000     0.090000        1.900000   \n",
       "50%          7.900000          0.520000     0.260000        2.200000   \n",
       "75%          9.200000          0.640000     0.420000        2.600000   \n",
       "max         15.900000          1.580000     1.000000       15.500000   \n",
       "\n",
       "          chlorides  free sulfur dioxide  total sulfur dioxide      density  \\\n",
       "count   3198.000000          3198.000000           3198.000000  3198.000000   \n",
       "unique          NaN                  NaN                   NaN          NaN   \n",
       "top             NaN                  NaN                   NaN          NaN   \n",
       "freq            NaN                  NaN                   NaN          NaN   \n",
       "mean       0.087467            15.874922             46.467792     0.996747   \n",
       "std        0.047058            10.458521             32.890179     0.001887   \n",
       "min        0.012000             1.000000              6.000000     0.990070   \n",
       "25%        0.070000             7.000000             22.000000     0.995600   \n",
       "50%        0.079000            14.000000             38.000000     0.996750   \n",
       "75%        0.090000            21.000000             62.000000     0.997837   \n",
       "max        0.611000            72.000000            289.000000     1.003690   \n",
       "\n",
       "                 pH    sulphates      alcohol      quality category  \n",
       "count   3198.000000  3198.000000  3198.000000  3198.000000     3198  \n",
       "unique          NaN          NaN          NaN          NaN        2  \n",
       "top             NaN          NaN          NaN          NaN      red  \n",
       "freq            NaN          NaN          NaN          NaN     1599  \n",
       "mean       3.311113     0.658149    10.422983     5.636023      NaN  \n",
       "std        0.154362     0.169480     1.065501     0.807443      NaN  \n",
       "min        2.740000     0.330000     8.400000     3.000000      NaN  \n",
       "25%        3.210000     0.550000     9.500000     5.000000      NaN  \n",
       "50%        3.310000     0.620000    10.200000     6.000000      NaN  \n",
       "75%        3.400000     0.730000    11.100000     6.000000      NaN  \n",
       "max        4.010000     2.000000    14.900000     8.000000      NaN  "
      ]
     },
     "execution_count": 12,
     "metadata": {},
     "output_type": "execute_result"
    }
   ],
   "source": [
    "total_wine.describe(include='all')"
   ]
  },
  {
   "cell_type": "markdown",
   "metadata": {
    "cell_id": "800cb68e45814a469a537963e99a9b3c",
    "deepnote_cell_height": 91.63333129882812,
    "deepnote_cell_type": "markdown",
    "tags": []
   },
   "source": [
    "4. Crea una variable donde almacenarás los valores de la columna `quality`. Revisa sus estadísticas descriptivas principales."
   ]
  },
  {
   "cell_type": "code",
   "execution_count": 13,
   "metadata": {
    "cell_id": "2d7baa5f01d1442dab3c005d36d2b5b8",
    "deepnote_cell_height": 83.83332824707031,
    "deepnote_cell_type": "code",
    "tags": []
   },
   "outputs": [
    {
     "data": {
      "text/plain": [
       "count    3198.000000\n",
       "mean        5.636023\n",
       "std         0.807443\n",
       "min         3.000000\n",
       "25%         5.000000\n",
       "50%         6.000000\n",
       "75%         6.000000\n",
       "max         8.000000\n",
       "Name: quality, dtype: float64"
      ]
     },
     "execution_count": 13,
     "metadata": {},
     "output_type": "execute_result"
    }
   ],
   "source": [
    "quality = total_wine['quality']\n",
    "quality.describe()"
   ]
  },
  {
   "cell_type": "markdown",
   "metadata": {
    "cell_id": "557bcada3c3546c58c8e65bef7fc9be9",
    "deepnote_cell_height": 91.63333129882812,
    "deepnote_cell_type": "markdown",
    "tags": []
   },
   "source": [
    "5. Cuenta los valores únicos de la variable `quality`. Para visualizar cómo se comporta e identificar si es una variable discreta o continua."
   ]
  },
  {
   "cell_type": "code",
   "execution_count": 14,
   "metadata": {
    "cell_id": "7d5e40194f6749cf96f43a31eb8e7fa4",
    "deepnote_cell_height": 65.83332824707031,
    "deepnote_cell_type": "code",
    "tags": []
   },
   "outputs": [
    {
     "data": {
      "text/plain": [
       "array([5, 6, 7, 4, 8, 3])"
      ]
     },
     "execution_count": 14,
     "metadata": {},
     "output_type": "execute_result"
    }
   ],
   "source": [
    "quality.unique()"
   ]
  },
  {
   "cell_type": "markdown",
   "metadata": {
    "cell_id": "a253b7d5b9e84e68970d5dedf793343b",
    "deepnote_cell_height": 69.23333740234375,
    "deepnote_cell_type": "markdown",
    "tags": []
   },
   "source": [
    "6. Escribe tus observaciones de cada uno de los pasos anteriores de esta sección:"
   ]
  },
  {
   "cell_type": "markdown",
   "metadata": {
    "cell_id": "fdfd222298af434fa28e31df6f9aaddd",
    "deepnote_cell_height": 52.23333740234375,
    "deepnote_cell_type": "markdown",
    "tags": []
   },
   "source": [
    "la mayoria de variables son flotantes, la unica que cambia es la de quality, la que se puede notar que es discreta, trate de obtener\n",
    "los percentiles de las variables (10, 20, 30...), pero no daba informacion extra que ayudara al analisis, otra cosa curiosa es que quise\n",
    "ver si encontraba el nombre de los vinos por curiosidad pero no encontre como tal algo que le diera esa clasificacion"
   ]
  },
  {
   "cell_type": "markdown",
   "metadata": {
    "cell_id": "7f237beeba314f259b040b6157b3f4c0",
    "deepnote_cell_height": 190.43333435058594,
    "deepnote_cell_type": "markdown",
    "tags": []
   },
   "source": [
    "### *Clases sugeridas*:\n",
    "\n",
    "- [Shape y Reshape](https://platzi.com/clases/2912-pandas-numpy/47979-shape-y-reshape/?utm_source=contenido&utm_medium=organic&utm_campaign=ejercicio-eda)\n",
    "- [Funciones principales de Pandas](https://platzi.com/clases/2912-pandas-numpy/47990-funciones-principales-de-pandas/?utm_source=contenido&utm_medium=organic&utm_campaign=ejercicio-eda)\n",
    "- [Medidas de tendencia central](https://platzi.com/clases/2353-estadistica-descriptiva/38396-medidas-de-tendencia-central/?utm_source=contenido&utm_medium=organic&utm_campaign=ejercicio-eda)\n",
    "- [Medidas de tendencia central en Python](https://platzi.com/clases/2353-estadistica-descriptiva/38398-medidas-de-tendencia-central-en-python/?utm_source=contenido&utm_medium=organic&utm_campaign=ejercicio-eda)"
   ]
  },
  {
   "cell_type": "markdown",
   "metadata": {
    "cell_id": "353cfc64c5a041e1a30d606a0d33bd60",
    "deepnote_cell_height": 217.43333435058594,
    "deepnote_cell_type": "markdown",
    "tags": []
   },
   "source": [
    "## Categorización de la variable target\n",
    "\n",
    "En la sección anterior pudiste observar que la variable `quality` es categórica en naturaleza. Crear categorías de calidad nos ayudará a entender mejor cómo se comporta la calidad en los vinos.\n",
    "\n",
    "En esta sección entenderás mejor la razón de esto y lo ejecutarás.\n",
    "\n",
    "1. Crea una gráfica tipo countplot de la variable `quality` para ver la cantidad de cada valor de calidad."
   ]
  },
  {
   "cell_type": "code",
   "execution_count": 15,
   "metadata": {
    "cell_id": "77093e0e8f5e4a459addc4d2a884b922",
    "deepnote_cell_height": 65.83332824707031,
    "deepnote_cell_type": "code",
    "tags": []
   },
   "outputs": [
    {
     "data": {
      "image/png": "[encoded data removed]",
      "text/plain": [
       "<Figure size 432x288 with 1 Axes>"
      ]
     },
     "metadata": {
      "needs_background": "light"
     },
     "output_type": "display_data"
    }
   ],
   "source": [
    "sns.set(style='dark', palette='dark', font='Ubuntu', font_scale=1)\n",
    "sns.countplot(data=total_wine, x='quality')\n",
    "plt.show()"
   ]
  },
  {
   "cell_type": "markdown",
   "metadata": {
    "cell_id": "e74d078e3d5748739cd0c92059b3e6b5",
    "deepnote_cell_height": 169.8333282470703,
    "deepnote_cell_type": "markdown",
    "tags": []
   },
   "source": [
    "Con la visualización anterior es mucho más sencillo de observar cómo se categorizan los valores de calidad en 3 grupos principales (baja, media y alta). \n",
    "\n",
    "2. Completa la siguiente función lambda con las condiciones necesarias para agregar una columna al DataFrame donde se indique la categoría de calidad: 'Poor', 'Medium', 'High'. Para ello deberás definir el criterio de rango de valores de cada categoría de acuerdo a lo que observaste en la gráfica anterior."
   ]
  },
  {
   "cell_type": "code",
   "execution_count": 16,
   "metadata": {
    "cell_id": "56bbbb13c5be44b4a7a961046654b307",
    "deepnote_cell_height": 83.83332824707031,
    "deepnote_cell_type": "code",
    "tags": []
   },
   "outputs": [
    {
     "data": {
      "text/html": [
       "<div>\n",
       "<style scoped>\n",
       "    .dataframe tbody tr th:only-of-type {\n",
       "        vertical-align: middle;\n",
       "    }\n",
       "\n",
       "    .dataframe tbody tr th {\n",
       "        vertical-align: top;\n",
       "    }\n",
       "\n",
       "    .dataframe thead th {\n",
       "        text-align: right;\n",
       "    }\n",
       "</style>\n",
       "<table border=\"1\" class=\"dataframe\">\n",
       "  <thead>\n",
       "    <tr style=\"text-align: right;\">\n",
       "      <th></th>\n",
       "      <th>fixed acidity</th>\n",
       "      <th>volatile acidity</th>\n",
       "      <th>citric acid</th>\n",
       "      <th>residual sugar</th>\n",
       "      <th>chlorides</th>\n",
       "      <th>free sulfur dioxide</th>\n",
       "      <th>total sulfur dioxide</th>\n",
       "      <th>density</th>\n",
       "      <th>pH</th>\n",
       "      <th>sulphates</th>\n",
       "      <th>alcohol</th>\n",
       "      <th>quality</th>\n",
       "      <th>category</th>\n",
       "      <th>quality_category</th>\n",
       "    </tr>\n",
       "  </thead>\n",
       "  <tbody>\n",
       "    <tr>\n",
       "      <th>2712</th>\n",
       "      <td>8.9</td>\n",
       "      <td>0.240</td>\n",
       "      <td>0.39</td>\n",
       "      <td>1.60</td>\n",
       "      <td>0.074</td>\n",
       "      <td>3.0</td>\n",
       "      <td>10.0</td>\n",
       "      <td>0.99698</td>\n",
       "      <td>3.12</td>\n",
       "      <td>0.59</td>\n",
       "      <td>9.5</td>\n",
       "      <td>6</td>\n",
       "      <td>white</td>\n",
       "      <td>Medium</td>\n",
       "    </tr>\n",
       "    <tr>\n",
       "      <th>1261</th>\n",
       "      <td>6.3</td>\n",
       "      <td>1.020</td>\n",
       "      <td>0.00</td>\n",
       "      <td>2.00</td>\n",
       "      <td>0.083</td>\n",
       "      <td>17.0</td>\n",
       "      <td>24.0</td>\n",
       "      <td>0.99437</td>\n",
       "      <td>3.59</td>\n",
       "      <td>0.55</td>\n",
       "      <td>11.2</td>\n",
       "      <td>4</td>\n",
       "      <td>red</td>\n",
       "      <td>Poor</td>\n",
       "    </tr>\n",
       "    <tr>\n",
       "      <th>1350</th>\n",
       "      <td>9.0</td>\n",
       "      <td>0.600</td>\n",
       "      <td>0.29</td>\n",
       "      <td>2.00</td>\n",
       "      <td>0.069</td>\n",
       "      <td>32.0</td>\n",
       "      <td>73.0</td>\n",
       "      <td>0.99654</td>\n",
       "      <td>3.34</td>\n",
       "      <td>0.57</td>\n",
       "      <td>10.0</td>\n",
       "      <td>5</td>\n",
       "      <td>red</td>\n",
       "      <td>Medium</td>\n",
       "    </tr>\n",
       "    <tr>\n",
       "      <th>1305</th>\n",
       "      <td>7.5</td>\n",
       "      <td>0.610</td>\n",
       "      <td>0.26</td>\n",
       "      <td>1.90</td>\n",
       "      <td>0.073</td>\n",
       "      <td>24.0</td>\n",
       "      <td>88.0</td>\n",
       "      <td>0.99612</td>\n",
       "      <td>3.30</td>\n",
       "      <td>0.53</td>\n",
       "      <td>9.8</td>\n",
       "      <td>5</td>\n",
       "      <td>red</td>\n",
       "      <td>Medium</td>\n",
       "    </tr>\n",
       "    <tr>\n",
       "      <th>1502</th>\n",
       "      <td>7.3</td>\n",
       "      <td>0.585</td>\n",
       "      <td>0.18</td>\n",
       "      <td>2.40</td>\n",
       "      <td>0.078</td>\n",
       "      <td>15.0</td>\n",
       "      <td>60.0</td>\n",
       "      <td>0.99638</td>\n",
       "      <td>3.31</td>\n",
       "      <td>0.54</td>\n",
       "      <td>9.8</td>\n",
       "      <td>5</td>\n",
       "      <td>red</td>\n",
       "      <td>Medium</td>\n",
       "    </tr>\n",
       "    <tr>\n",
       "      <th>1729</th>\n",
       "      <td>8.0</td>\n",
       "      <td>0.745</td>\n",
       "      <td>0.56</td>\n",
       "      <td>2.00</td>\n",
       "      <td>0.118</td>\n",
       "      <td>30.0</td>\n",
       "      <td>134.0</td>\n",
       "      <td>0.99680</td>\n",
       "      <td>3.24</td>\n",
       "      <td>0.66</td>\n",
       "      <td>9.4</td>\n",
       "      <td>5</td>\n",
       "      <td>white</td>\n",
       "      <td>Medium</td>\n",
       "    </tr>\n",
       "    <tr>\n",
       "      <th>1080</th>\n",
       "      <td>10.3</td>\n",
       "      <td>0.270</td>\n",
       "      <td>0.56</td>\n",
       "      <td>1.40</td>\n",
       "      <td>0.047</td>\n",
       "      <td>3.0</td>\n",
       "      <td>8.0</td>\n",
       "      <td>0.99471</td>\n",
       "      <td>3.16</td>\n",
       "      <td>0.51</td>\n",
       "      <td>11.8</td>\n",
       "      <td>6</td>\n",
       "      <td>red</td>\n",
       "      <td>Medium</td>\n",
       "    </tr>\n",
       "    <tr>\n",
       "      <th>1353</th>\n",
       "      <td>7.6</td>\n",
       "      <td>0.645</td>\n",
       "      <td>0.03</td>\n",
       "      <td>1.90</td>\n",
       "      <td>0.086</td>\n",
       "      <td>14.0</td>\n",
       "      <td>57.0</td>\n",
       "      <td>0.99690</td>\n",
       "      <td>3.37</td>\n",
       "      <td>0.46</td>\n",
       "      <td>10.3</td>\n",
       "      <td>5</td>\n",
       "      <td>red</td>\n",
       "      <td>Medium</td>\n",
       "    </tr>\n",
       "    <tr>\n",
       "      <th>2605</th>\n",
       "      <td>9.1</td>\n",
       "      <td>0.290</td>\n",
       "      <td>0.33</td>\n",
       "      <td>2.05</td>\n",
       "      <td>0.063</td>\n",
       "      <td>13.0</td>\n",
       "      <td>27.0</td>\n",
       "      <td>0.99516</td>\n",
       "      <td>3.26</td>\n",
       "      <td>0.84</td>\n",
       "      <td>11.7</td>\n",
       "      <td>7</td>\n",
       "      <td>white</td>\n",
       "      <td>High</td>\n",
       "    </tr>\n",
       "    <tr>\n",
       "      <th>535</th>\n",
       "      <td>9.1</td>\n",
       "      <td>0.220</td>\n",
       "      <td>0.24</td>\n",
       "      <td>2.10</td>\n",
       "      <td>0.078</td>\n",
       "      <td>1.0</td>\n",
       "      <td>28.0</td>\n",
       "      <td>0.99900</td>\n",
       "      <td>3.41</td>\n",
       "      <td>0.87</td>\n",
       "      <td>10.3</td>\n",
       "      <td>6</td>\n",
       "      <td>red</td>\n",
       "      <td>Medium</td>\n",
       "    </tr>\n",
       "    <tr>\n",
       "      <th>2797</th>\n",
       "      <td>7.7</td>\n",
       "      <td>0.260</td>\n",
       "      <td>0.26</td>\n",
       "      <td>2.00</td>\n",
       "      <td>0.052</td>\n",
       "      <td>19.0</td>\n",
       "      <td>77.0</td>\n",
       "      <td>0.99510</td>\n",
       "      <td>3.15</td>\n",
       "      <td>0.79</td>\n",
       "      <td>10.9</td>\n",
       "      <td>6</td>\n",
       "      <td>white</td>\n",
       "      <td>Medium</td>\n",
       "    </tr>\n",
       "    <tr>\n",
       "      <th>912</th>\n",
       "      <td>10.0</td>\n",
       "      <td>0.460</td>\n",
       "      <td>0.44</td>\n",
       "      <td>2.90</td>\n",
       "      <td>0.065</td>\n",
       "      <td>4.0</td>\n",
       "      <td>8.0</td>\n",
       "      <td>0.99674</td>\n",
       "      <td>3.33</td>\n",
       "      <td>0.62</td>\n",
       "      <td>12.2</td>\n",
       "      <td>6</td>\n",
       "      <td>red</td>\n",
       "      <td>Medium</td>\n",
       "    </tr>\n",
       "    <tr>\n",
       "      <th>2559</th>\n",
       "      <td>8.5</td>\n",
       "      <td>0.470</td>\n",
       "      <td>0.27</td>\n",
       "      <td>1.90</td>\n",
       "      <td>0.058</td>\n",
       "      <td>18.0</td>\n",
       "      <td>38.0</td>\n",
       "      <td>0.99518</td>\n",
       "      <td>3.16</td>\n",
       "      <td>0.85</td>\n",
       "      <td>11.1</td>\n",
       "      <td>6</td>\n",
       "      <td>white</td>\n",
       "      <td>Medium</td>\n",
       "    </tr>\n",
       "    <tr>\n",
       "      <th>2253</th>\n",
       "      <td>8.6</td>\n",
       "      <td>0.470</td>\n",
       "      <td>0.47</td>\n",
       "      <td>2.40</td>\n",
       "      <td>0.074</td>\n",
       "      <td>7.0</td>\n",
       "      <td>29.0</td>\n",
       "      <td>0.99790</td>\n",
       "      <td>3.08</td>\n",
       "      <td>0.46</td>\n",
       "      <td>9.5</td>\n",
       "      <td>5</td>\n",
       "      <td>white</td>\n",
       "      <td>Medium</td>\n",
       "    </tr>\n",
       "    <tr>\n",
       "      <th>2888</th>\n",
       "      <td>7.0</td>\n",
       "      <td>0.600</td>\n",
       "      <td>0.30</td>\n",
       "      <td>4.50</td>\n",
       "      <td>0.068</td>\n",
       "      <td>20.0</td>\n",
       "      <td>110.0</td>\n",
       "      <td>0.99914</td>\n",
       "      <td>3.30</td>\n",
       "      <td>1.17</td>\n",
       "      <td>10.2</td>\n",
       "      <td>5</td>\n",
       "      <td>white</td>\n",
       "      <td>Medium</td>\n",
       "    </tr>\n",
       "    <tr>\n",
       "      <th>262</th>\n",
       "      <td>8.0</td>\n",
       "      <td>0.520</td>\n",
       "      <td>0.03</td>\n",
       "      <td>1.70</td>\n",
       "      <td>0.070</td>\n",
       "      <td>10.0</td>\n",
       "      <td>35.0</td>\n",
       "      <td>0.99575</td>\n",
       "      <td>3.34</td>\n",
       "      <td>0.57</td>\n",
       "      <td>10.0</td>\n",
       "      <td>5</td>\n",
       "      <td>red</td>\n",
       "      <td>Medium</td>\n",
       "    </tr>\n",
       "    <tr>\n",
       "      <th>1150</th>\n",
       "      <td>8.2</td>\n",
       "      <td>0.330</td>\n",
       "      <td>0.32</td>\n",
       "      <td>2.80</td>\n",
       "      <td>0.067</td>\n",
       "      <td>4.0</td>\n",
       "      <td>12.0</td>\n",
       "      <td>0.99473</td>\n",
       "      <td>3.30</td>\n",
       "      <td>0.76</td>\n",
       "      <td>12.8</td>\n",
       "      <td>7</td>\n",
       "      <td>red</td>\n",
       "      <td>High</td>\n",
       "    </tr>\n",
       "    <tr>\n",
       "      <th>1650</th>\n",
       "      <td>6.6</td>\n",
       "      <td>0.520</td>\n",
       "      <td>0.04</td>\n",
       "      <td>2.20</td>\n",
       "      <td>0.069</td>\n",
       "      <td>8.0</td>\n",
       "      <td>15.0</td>\n",
       "      <td>0.99560</td>\n",
       "      <td>3.40</td>\n",
       "      <td>0.63</td>\n",
       "      <td>9.4</td>\n",
       "      <td>6</td>\n",
       "      <td>white</td>\n",
       "      <td>Medium</td>\n",
       "    </tr>\n",
       "    <tr>\n",
       "      <th>538</th>\n",
       "      <td>12.9</td>\n",
       "      <td>0.350</td>\n",
       "      <td>0.49</td>\n",
       "      <td>5.80</td>\n",
       "      <td>0.066</td>\n",
       "      <td>5.0</td>\n",
       "      <td>35.0</td>\n",
       "      <td>1.00140</td>\n",
       "      <td>3.20</td>\n",
       "      <td>0.66</td>\n",
       "      <td>12.0</td>\n",
       "      <td>7</td>\n",
       "      <td>red</td>\n",
       "      <td>High</td>\n",
       "    </tr>\n",
       "    <tr>\n",
       "      <th>2457</th>\n",
       "      <td>11.7</td>\n",
       "      <td>0.280</td>\n",
       "      <td>0.47</td>\n",
       "      <td>1.70</td>\n",
       "      <td>0.054</td>\n",
       "      <td>17.0</td>\n",
       "      <td>32.0</td>\n",
       "      <td>0.99686</td>\n",
       "      <td>3.15</td>\n",
       "      <td>0.67</td>\n",
       "      <td>10.6</td>\n",
       "      <td>7</td>\n",
       "      <td>white</td>\n",
       "      <td>High</td>\n",
       "    </tr>\n",
       "  </tbody>\n",
       "</table>\n",
       "</div>"
      ],
      "text/plain": [
       "      fixed acidity  volatile acidity  citric acid  residual sugar  chlorides  \\\n",
       "2712            8.9             0.240         0.39            1.60      0.074   \n",
       "1261            6.3             1.020         0.00            2.00      0.083   \n",
       "1350            9.0             0.600         0.29            2.00      0.069   \n",
       "1305            7.5             0.610         0.26            1.90      0.073   \n",
       "1502            7.3             0.585         0.18            2.40      0.078   \n",
       "1729            8.0             0.745         0.56            2.00      0.118   \n",
       "1080           10.3             0.270         0.56            1.40      0.047   \n",
       "1353            7.6             0.645         0.03            1.90      0.086   \n",
       "2605            9.1             0.290         0.33            2.05      0.063   \n",
       "535             9.1             0.220         0.24            2.10      0.078   \n",
       "2797            7.7             0.260         0.26            2.00      0.052   \n",
       "912            10.0             0.460         0.44            2.90      0.065   \n",
       "2559            8.5             0.470         0.27            1.90      0.058   \n",
       "2253            8.6             0.470         0.47            2.40      0.074   \n",
       "2888            7.0             0.600         0.30            4.50      0.068   \n",
       "262             8.0             0.520         0.03            1.70      0.070   \n",
       "1150            8.2             0.330         0.32            2.80      0.067   \n",
       "1650            6.6             0.520         0.04            2.20      0.069   \n",
       "538            12.9             0.350         0.49            5.80      0.066   \n",
       "2457           11.7             0.280         0.47            1.70      0.054   \n",
       "\n",
       "      free sulfur dioxide  total sulfur dioxide  density    pH  sulphates  \\\n",
       "2712                  3.0                  10.0  0.99698  3.12       0.59   \n",
       "1261                 17.0                  24.0  0.99437  3.59       0.55   \n",
       "1350                 32.0                  73.0  0.99654  3.34       0.57   \n",
       "1305                 24.0                  88.0  0.99612  3.30       0.53   \n",
       "1502                 15.0                  60.0  0.99638  3.31       0.54   \n",
       "1729                 30.0                 134.0  0.99680  3.24       0.66   \n",
       "1080                  3.0                   8.0  0.99471  3.16       0.51   \n",
       "1353                 14.0                  57.0  0.99690  3.37       0.46   \n",
       "2605                 13.0                  27.0  0.99516  3.26       0.84   \n",
       "535                   1.0                  28.0  0.99900  3.41       0.87   \n",
       "2797                 19.0                  77.0  0.99510  3.15       0.79   \n",
       "912                   4.0                   8.0  0.99674  3.33       0.62   \n",
       "2559                 18.0                  38.0  0.99518  3.16       0.85   \n",
       "2253                  7.0                  29.0  0.99790  3.08       0.46   \n",
       "2888                 20.0                 110.0  0.99914  3.30       1.17   \n",
       "262                  10.0                  35.0  0.99575  3.34       0.57   \n",
       "1150                  4.0                  12.0  0.99473  3.30       0.76   \n",
       "1650                  8.0                  15.0  0.99560  3.40       0.63   \n",
       "538                   5.0                  35.0  1.00140  3.20       0.66   \n",
       "2457                 17.0                  32.0  0.99686  3.15       0.67   \n",
       "\n",
       "      alcohol  quality category quality_category  \n",
       "2712      9.5        6    white           Medium  \n",
       "1261     11.2        4      red             Poor  \n",
       "1350     10.0        5      red           Medium  \n",
       "1305      9.8        5      red           Medium  \n",
       "1502      9.8        5      red           Medium  \n",
       "1729      9.4        5    white           Medium  \n",
       "1080     11.8        6      red           Medium  \n",
       "1353     10.3        5      red           Medium  \n",
       "2605     11.7        7    white             High  \n",
       "535      10.3        6      red           Medium  \n",
       "2797     10.9        6    white           Medium  \n",
       "912      12.2        6      red           Medium  \n",
       "2559     11.1        6    white           Medium  \n",
       "2253      9.5        5    white           Medium  \n",
       "2888     10.2        5    white           Medium  \n",
       "262      10.0        5      red           Medium  \n",
       "1150     12.8        7      red             High  \n",
       "1650      9.4        6    white           Medium  \n",
       "538      12.0        7      red             High  \n",
       "2457     10.6        7    white             High  "
      ]
     },
     "execution_count": 16,
     "metadata": {},
     "output_type": "execute_result"
    }
   ],
   "source": [
    "total_wine['quality_category'] = total_wine['quality'].apply(\n",
    "    lambda x: 'Poor' if x in (3, 4) else ('Medium' if x in (5, 6) else 'High')\n",
    ")\n",
    "total_wine.sample(20)"
   ]
  },
  {
   "cell_type": "markdown",
   "metadata": {
    "cell_id": "06fb3a05a9bc4b53a2e364851fa53ff4",
    "deepnote_cell_height": 52.23333740234375,
    "deepnote_cell_type": "markdown",
    "tags": []
   },
   "source": [
    "2.1 Redefine el tipo de variable de la nueva columna como tipo 'category'."
   ]
  },
  {
   "cell_type": "code",
   "execution_count": 17,
   "metadata": {
    "cell_id": "385768277865463a956d1df772369e90",
    "deepnote_cell_height": 83.83332824707031,
    "deepnote_cell_type": "code",
    "tags": []
   },
   "outputs": [
    {
     "name": "stdout",
     "output_type": "stream",
     "text": [
      "<class 'pandas.core.frame.DataFrame'>\n",
      "RangeIndex: 3198 entries, 0 to 3197\n",
      "Data columns (total 14 columns):\n",
      " #   Column                Non-Null Count  Dtype   \n",
      "---  ------                --------------  -----   \n",
      " 0   fixed acidity         3198 non-null   float64 \n",
      " 1   volatile acidity      3198 non-null   float64 \n",
      " 2   citric acid           3198 non-null   float64 \n",
      " 3   residual sugar        3198 non-null   float64 \n",
      " 4   chlorides             3198 non-null   float64 \n",
      " 5   free sulfur dioxide   3198 non-null   float64 \n",
      " 6   total sulfur dioxide  3198 non-null   float64 \n",
      " 7   density               3198 non-null   float64 \n",
      " 8   pH                    3198 non-null   float64 \n",
      " 9   sulphates             3198 non-null   float64 \n",
      " 10  alcohol               3198 non-null   float64 \n",
      " 11  quality               3198 non-null   int64   \n",
      " 12  category              3198 non-null   object  \n",
      " 13  quality_category      3198 non-null   category\n",
      "dtypes: category(1), float64(11), int64(1), object(1)\n",
      "memory usage: 328.2+ KB\n"
     ]
    }
   ],
   "source": [
    "total_wine['quality_category'] = total_wine['quality_category'].astype(\"category\")\n",
    "total_wine.info()"
   ]
  },
  {
   "cell_type": "markdown",
   "metadata": {
    "cell_id": "5e6ff4ca0e47429aab38c6d0d5453675",
    "deepnote_cell_height": 69.23333740234375,
    "deepnote_cell_type": "markdown",
    "tags": []
   },
   "source": [
    "3. Crea una gráfica para visualizar el conteo de datos en cada una de las categorías de calidad del vino."
   ]
  },
  {
   "cell_type": "code",
   "execution_count": 18,
   "metadata": {
    "cell_id": "e511d6780d7e4a3e9027724b5a2eb256",
    "deepnote_cell_height": 65.83332824707031,
    "deepnote_cell_type": "code",
    "tags": []
   },
   "outputs": [
    {
     "data": {
      "image/png": "[encoded data removed]",
      "text/plain": [
       "<Figure size 432x288 with 1 Axes>"
      ]
     },
     "metadata": {},
     "output_type": "display_data"
    }
   ],
   "source": [
    "sns.set(style='dark', palette='dark', font='Ubuntu', font_scale=1)\n",
    "sns.countplot(data=total_wine, x='quality_category')\n",
    "plt.show()"
   ]
  },
  {
   "cell_type": "markdown",
   "metadata": {
    "cell_id": "8bcdc54d63b94177be505af0fd06ca82",
    "deepnote_cell_height": 69.23333740234375,
    "deepnote_cell_type": "markdown",
    "tags": []
   },
   "source": [
    "4. Escribe tus observaciones de cada uno de los pasos anteriores de esta sección:"
   ]
  },
  {
   "cell_type": "markdown",
   "metadata": {
    "cell_id": "af233dee447c415784ac8c4990d3fd4a",
    "deepnote_cell_height": 52.23333740234375,
    "deepnote_cell_type": "markdown",
    "tags": []
   },
   "source": [
    "*Escribe aquí dichas observaciones.*"
   ]
  },
  {
   "cell_type": "markdown",
   "metadata": {
    "cell_id": "011079a43d364b7598e4c579f5aa56fe",
    "deepnote_cell_height": 299.6333312988281,
    "deepnote_cell_type": "markdown",
    "tags": []
   },
   "source": [
    "### *Clases sugeridas*:\n",
    "\n",
    "Gráficas\n",
    "\n",
    "- [Set (Seaborn)](https://platzi.com/clases/2913-matplotlib-seaborn/47947-set/?utm_source=contenido&utm_medium=organic&utm_campaign=ejercicio-eda)\n",
    "\n",
    "- [Categóricos (Seaborn)](https://platzi.com/clases/2913-matplotlib-seaborn/47950-categoricos/?utm_source=contenido&utm_medium=organic&utm_campaign=ejercicio-eda)\n",
    "\n",
    "Apply, lambdas, conversión de datos\n",
    "\n",
    "- [Funciones anónimas: lambdas](https://platzi.com/clases/2255-python-intermedio/36465-funciones-anonimas-lambda/?utm_source=contenido&utm_medium=organic&utm_campaign=ejercicio-eda)\n",
    "\n",
    "- [Apply (Pandas)](https://platzi.com/clases/2912-pandas-numpy/47996-apply/?utm_source=contenido&utm_medium=organic&utm_campaign=ejercicio-eda)\n",
    "\n",
    "- [Tipos de datos (NumPy y Pandas)](https://platzi.com/clases/2912-pandas-numpy/47976-tipos-de-datos/?utm_source=contenido&utm_medium=organic&utm_campaign=ejercicio-eda)"
   ]
  },
  {
   "cell_type": "markdown",
   "metadata": {
    "cell_id": "7e8d700425d449578c6470339e1bef84",
    "deepnote_cell_height": 181.03334045410156,
    "deepnote_cell_type": "markdown",
    "tags": []
   },
   "source": [
    "## Manejo de outliers\n",
    "\n",
    "En una sección anterior tuviste una pista de qué existen outliers en el dataset. \n",
    "\n",
    "1. Utiliza el método que veas más conveniente para detectar outliers en tu dataset. Por ejemplo, boxplots, método IQR, etc."
   ]
  },
  {
   "cell_type": "code",
   "execution_count": 19,
   "metadata": {
    "cell_id": "76daa8e29fab451789899534c239a1b4",
    "deepnote_cell_height": 65.83332824707031,
    "deepnote_cell_type": "code",
    "tags": []
   },
   "outputs": [
    {
     "data": {
      "image/png": "[encoded data removed]",
      "text/plain": [
       "<Figure size 432x288 with 1 Axes>"
      ]
     },
     "metadata": {},
     "output_type": "display_data"
    }
   ],
   "source": [
    "sns.boxplot(data=total_wine, y='quality')\n",
    "plt.show()"
   ]
  },
  {
   "cell_type": "code",
   "execution_count": 20,
   "metadata": {},
   "outputs": [
    {
     "data": {
      "text/plain": [
       "(5.0, 6.0, 1.0)"
      ]
     },
     "execution_count": 20,
     "metadata": {},
     "output_type": "execute_result"
    }
   ],
   "source": [
    "q1 = total_wine['quality'].quantile(0.25)\n",
    "q3 = total_wine['quality'].quantile(0.75)\n",
    "iqr = q3 - q1\n",
    "q1, q3, iqr"
   ]
  },
  {
   "cell_type": "markdown",
   "metadata": {
    "cell_id": "5854f82d45aa4b7ebb231e5395b3f03a",
    "deepnote_cell_height": 128.03334045410156,
    "deepnote_cell_type": "markdown",
    "tags": []
   },
   "source": [
    "2. Responde la siguiente pregunta:\n",
    "\n",
    "a) ¿Ves necesario eliminar estos outliers?\n",
    "\n",
    "b) ¿Por qué?"
   ]
  },
  {
   "cell_type": "markdown",
   "metadata": {
    "cell_id": "23035d8f05c74f2cae8e9ccba341e4e9",
    "deepnote_cell_height": 52.23333740234375,
    "deepnote_cell_type": "markdown",
    "tags": []
   },
   "source": [
    "*Escribe aquí tus respuestas.*"
   ]
  },
  {
   "cell_type": "markdown",
   "metadata": {
    "cell_id": "8205c5fe691e451da07a7aa189dc7055",
    "deepnote_cell_height": 65.83332824707031,
    "deepnote_cell_type": "code",
    "tags": []
   },
   "source": [
    "3. Elimina los outliers de ser necesario en la siguiente celda."
   ]
  },
  {
   "cell_type": "code",
   "execution_count": 21,
   "metadata": {
    "cell_id": "25a182e8574c405396060cbe5c29b4b2",
    "deepnote_cell_height": 65.83332824707031,
    "deepnote_cell_type": "code",
    "tags": []
   },
   "outputs": [
    {
     "data": {
      "text/html": [
       "<div>\n",
       "<style scoped>\n",
       "    .dataframe tbody tr th:only-of-type {\n",
       "        vertical-align: middle;\n",
       "    }\n",
       "\n",
       "    .dataframe tbody tr th {\n",
       "        vertical-align: top;\n",
       "    }\n",
       "\n",
       "    .dataframe thead th {\n",
       "        text-align: right;\n",
       "    }\n",
       "</style>\n",
       "<table border=\"1\" class=\"dataframe\">\n",
       "  <thead>\n",
       "    <tr style=\"text-align: right;\">\n",
       "      <th></th>\n",
       "      <th>fixed acidity</th>\n",
       "      <th>volatile acidity</th>\n",
       "      <th>citric acid</th>\n",
       "      <th>residual sugar</th>\n",
       "      <th>chlorides</th>\n",
       "      <th>free sulfur dioxide</th>\n",
       "      <th>total sulfur dioxide</th>\n",
       "      <th>density</th>\n",
       "      <th>pH</th>\n",
       "      <th>sulphates</th>\n",
       "      <th>alcohol</th>\n",
       "      <th>quality</th>\n",
       "      <th>category</th>\n",
       "      <th>quality_category</th>\n",
       "    </tr>\n",
       "  </thead>\n",
       "  <tbody>\n",
       "    <tr>\n",
       "      <th>0</th>\n",
       "      <td>7.4</td>\n",
       "      <td>0.700</td>\n",
       "      <td>0.00</td>\n",
       "      <td>1.9</td>\n",
       "      <td>0.076</td>\n",
       "      <td>11.0</td>\n",
       "      <td>34.0</td>\n",
       "      <td>0.99780</td>\n",
       "      <td>3.51</td>\n",
       "      <td>0.56</td>\n",
       "      <td>9.4</td>\n",
       "      <td>5</td>\n",
       "      <td>red</td>\n",
       "      <td>Medium</td>\n",
       "    </tr>\n",
       "    <tr>\n",
       "      <th>1</th>\n",
       "      <td>7.8</td>\n",
       "      <td>0.880</td>\n",
       "      <td>0.00</td>\n",
       "      <td>2.6</td>\n",
       "      <td>0.098</td>\n",
       "      <td>25.0</td>\n",
       "      <td>67.0</td>\n",
       "      <td>0.99680</td>\n",
       "      <td>3.20</td>\n",
       "      <td>0.68</td>\n",
       "      <td>9.8</td>\n",
       "      <td>5</td>\n",
       "      <td>red</td>\n",
       "      <td>Medium</td>\n",
       "    </tr>\n",
       "    <tr>\n",
       "      <th>2</th>\n",
       "      <td>7.8</td>\n",
       "      <td>0.760</td>\n",
       "      <td>0.04</td>\n",
       "      <td>2.3</td>\n",
       "      <td>0.092</td>\n",
       "      <td>15.0</td>\n",
       "      <td>54.0</td>\n",
       "      <td>0.99700</td>\n",
       "      <td>3.26</td>\n",
       "      <td>0.65</td>\n",
       "      <td>9.8</td>\n",
       "      <td>5</td>\n",
       "      <td>red</td>\n",
       "      <td>Medium</td>\n",
       "    </tr>\n",
       "    <tr>\n",
       "      <th>3</th>\n",
       "      <td>11.2</td>\n",
       "      <td>0.280</td>\n",
       "      <td>0.56</td>\n",
       "      <td>1.9</td>\n",
       "      <td>0.075</td>\n",
       "      <td>17.0</td>\n",
       "      <td>60.0</td>\n",
       "      <td>0.99800</td>\n",
       "      <td>3.16</td>\n",
       "      <td>0.58</td>\n",
       "      <td>9.8</td>\n",
       "      <td>6</td>\n",
       "      <td>red</td>\n",
       "      <td>Medium</td>\n",
       "    </tr>\n",
       "    <tr>\n",
       "      <th>4</th>\n",
       "      <td>7.4</td>\n",
       "      <td>0.700</td>\n",
       "      <td>0.00</td>\n",
       "      <td>1.9</td>\n",
       "      <td>0.076</td>\n",
       "      <td>11.0</td>\n",
       "      <td>34.0</td>\n",
       "      <td>0.99780</td>\n",
       "      <td>3.51</td>\n",
       "      <td>0.56</td>\n",
       "      <td>9.4</td>\n",
       "      <td>5</td>\n",
       "      <td>red</td>\n",
       "      <td>Medium</td>\n",
       "    </tr>\n",
       "    <tr>\n",
       "      <th>...</th>\n",
       "      <td>...</td>\n",
       "      <td>...</td>\n",
       "      <td>...</td>\n",
       "      <td>...</td>\n",
       "      <td>...</td>\n",
       "      <td>...</td>\n",
       "      <td>...</td>\n",
       "      <td>...</td>\n",
       "      <td>...</td>\n",
       "      <td>...</td>\n",
       "      <td>...</td>\n",
       "      <td>...</td>\n",
       "      <td>...</td>\n",
       "      <td>...</td>\n",
       "    </tr>\n",
       "    <tr>\n",
       "      <th>3193</th>\n",
       "      <td>6.2</td>\n",
       "      <td>0.600</td>\n",
       "      <td>0.08</td>\n",
       "      <td>2.0</td>\n",
       "      <td>0.090</td>\n",
       "      <td>32.0</td>\n",
       "      <td>44.0</td>\n",
       "      <td>0.99490</td>\n",
       "      <td>3.45</td>\n",
       "      <td>0.58</td>\n",
       "      <td>10.5</td>\n",
       "      <td>5</td>\n",
       "      <td>white</td>\n",
       "      <td>Medium</td>\n",
       "    </tr>\n",
       "    <tr>\n",
       "      <th>3194</th>\n",
       "      <td>5.9</td>\n",
       "      <td>0.550</td>\n",
       "      <td>0.10</td>\n",
       "      <td>2.2</td>\n",
       "      <td>0.062</td>\n",
       "      <td>39.0</td>\n",
       "      <td>51.0</td>\n",
       "      <td>0.99512</td>\n",
       "      <td>3.52</td>\n",
       "      <td>0.76</td>\n",
       "      <td>11.2</td>\n",
       "      <td>6</td>\n",
       "      <td>white</td>\n",
       "      <td>Medium</td>\n",
       "    </tr>\n",
       "    <tr>\n",
       "      <th>3195</th>\n",
       "      <td>6.3</td>\n",
       "      <td>0.510</td>\n",
       "      <td>0.13</td>\n",
       "      <td>2.3</td>\n",
       "      <td>0.076</td>\n",
       "      <td>29.0</td>\n",
       "      <td>40.0</td>\n",
       "      <td>0.99574</td>\n",
       "      <td>3.42</td>\n",
       "      <td>0.75</td>\n",
       "      <td>11.0</td>\n",
       "      <td>6</td>\n",
       "      <td>white</td>\n",
       "      <td>Medium</td>\n",
       "    </tr>\n",
       "    <tr>\n",
       "      <th>3196</th>\n",
       "      <td>5.9</td>\n",
       "      <td>0.645</td>\n",
       "      <td>0.12</td>\n",
       "      <td>2.0</td>\n",
       "      <td>0.075</td>\n",
       "      <td>32.0</td>\n",
       "      <td>44.0</td>\n",
       "      <td>0.99547</td>\n",
       "      <td>3.57</td>\n",
       "      <td>0.71</td>\n",
       "      <td>10.2</td>\n",
       "      <td>5</td>\n",
       "      <td>white</td>\n",
       "      <td>Medium</td>\n",
       "    </tr>\n",
       "    <tr>\n",
       "      <th>3197</th>\n",
       "      <td>6.0</td>\n",
       "      <td>0.310</td>\n",
       "      <td>0.47</td>\n",
       "      <td>3.6</td>\n",
       "      <td>0.067</td>\n",
       "      <td>18.0</td>\n",
       "      <td>42.0</td>\n",
       "      <td>0.99549</td>\n",
       "      <td>3.39</td>\n",
       "      <td>0.66</td>\n",
       "      <td>11.0</td>\n",
       "      <td>6</td>\n",
       "      <td>white</td>\n",
       "      <td>Medium</td>\n",
       "    </tr>\n",
       "  </tbody>\n",
       "</table>\n",
       "<p>3142 rows × 14 columns</p>\n",
       "</div>"
      ],
      "text/plain": [
       "      fixed acidity  volatile acidity  citric acid  residual sugar  chlorides  \\\n",
       "0               7.4             0.700         0.00             1.9      0.076   \n",
       "1               7.8             0.880         0.00             2.6      0.098   \n",
       "2               7.8             0.760         0.04             2.3      0.092   \n",
       "3              11.2             0.280         0.56             1.9      0.075   \n",
       "4               7.4             0.700         0.00             1.9      0.076   \n",
       "...             ...               ...          ...             ...        ...   \n",
       "3193            6.2             0.600         0.08             2.0      0.090   \n",
       "3194            5.9             0.550         0.10             2.2      0.062   \n",
       "3195            6.3             0.510         0.13             2.3      0.076   \n",
       "3196            5.9             0.645         0.12             2.0      0.075   \n",
       "3197            6.0             0.310         0.47             3.6      0.067   \n",
       "\n",
       "      free sulfur dioxide  total sulfur dioxide  density    pH  sulphates  \\\n",
       "0                    11.0                  34.0  0.99780  3.51       0.56   \n",
       "1                    25.0                  67.0  0.99680  3.20       0.68   \n",
       "2                    15.0                  54.0  0.99700  3.26       0.65   \n",
       "3                    17.0                  60.0  0.99800  3.16       0.58   \n",
       "4                    11.0                  34.0  0.99780  3.51       0.56   \n",
       "...                   ...                   ...      ...   ...        ...   \n",
       "3193                 32.0                  44.0  0.99490  3.45       0.58   \n",
       "3194                 39.0                  51.0  0.99512  3.52       0.76   \n",
       "3195                 29.0                  40.0  0.99574  3.42       0.75   \n",
       "3196                 32.0                  44.0  0.99547  3.57       0.71   \n",
       "3197                 18.0                  42.0  0.99549  3.39       0.66   \n",
       "\n",
       "      alcohol  quality category quality_category  \n",
       "0         9.4        5      red           Medium  \n",
       "1         9.8        5      red           Medium  \n",
       "2         9.8        5      red           Medium  \n",
       "3         9.8        6      red           Medium  \n",
       "4         9.4        5      red           Medium  \n",
       "...       ...      ...      ...              ...  \n",
       "3193     10.5        5    white           Medium  \n",
       "3194     11.2        6    white           Medium  \n",
       "3195     11.0        6    white           Medium  \n",
       "3196     10.2        5    white           Medium  \n",
       "3197     11.0        6    white           Medium  \n",
       "\n",
       "[3142 rows x 14 columns]"
      ]
     },
     "execution_count": 21,
     "metadata": {},
     "output_type": "execute_result"
    }
   ],
   "source": [
    "total_wine_clean = total_wine.query('(@q1 - 1.5 * @iqr) <= quality <= (@q3 + 1.5 * @iqr)')\n",
    "total_wine_clean"
   ]
  },
  {
   "cell_type": "markdown",
   "metadata": {
    "cell_id": "9b931087a3ac41f6871615458d083e4e",
    "deepnote_cell_height": 299.6333312988281,
    "deepnote_cell_type": "markdown",
    "tags": []
   },
   "source": [
    "### *Clases sugeridas*:\n",
    "\n",
    "Estadística descriptiva\n",
    "- [Medidas de dispersión](https://platzi.com/clases/2353-estadistica-descriptiva/38399-medidas-de-dispersion/?utm_source=contenido&utm_medium=organic&utm_campaign=ejercicio-eda)\n",
    "\n",
    "- [Desviación estándar](https://platzi.com/clases/2353-estadistica-descriptiva/38400-desviacion-estandar/?utm_source=contenido&utm_medium=organic&utm_campaign=ejercicio-eda)\n",
    "\n",
    "- [Medidas de dispersión en Python](https://platzi.com/clases/2353-estadistica-descriptiva/38401-medidas-de-dispersion-en-python/?utm_source=contenido&utm_medium=organic&utm_campaign=ejercicio-eda)\n",
    "\n",
    "Gráficas boxplots\n",
    "- [Crear otro tipo de gráficas (Boxplot en Matplotlib)](https://platzi.com/clases/2913-matplotlib-seaborn/47945-crear-otro-tipo-de-graficas/?utm_source=contenido&utm_medium=organic&utm_campaign=ejercicio-eda)\n",
    "- [Categóricos (Boxplot en Seaborn)](https://platzi.com/clases/2913-matplotlib-seaborn/47950-categoricos/?utm_source=contenido&utm_medium=organic&utm_campaign=ejercicio-eda)"
   ]
  },
  {
   "cell_type": "markdown",
   "metadata": {
    "cell_id": "4f4b9d717a734351a4b400b1042a3de0",
    "deepnote_cell_height": 181.03334045410156,
    "deepnote_cell_type": "markdown",
    "tags": []
   },
   "source": [
    "## Análisis de correlación entre variables\n",
    "\n",
    "Ya que conociste el comportamiento esencial de las características y la variable `quality` es momento de conocer cómo se relacionan entre sí para descubrir si alguna(s) pueden afectar a esta calidad.\n",
    "\n",
    "1. Crea una matriz de correlación de las variables numéricas del dataset."
   ]
  },
  {
   "cell_type": "code",
   "execution_count": 22,
   "metadata": {
    "cell_id": "69c38fbb43ed44bcaf7685dea2cd0477",
    "deepnote_cell_height": 65.83332824707031,
    "deepnote_cell_type": "code",
    "tags": []
   },
   "outputs": [
    {
     "data": {
      "text/html": [
       "<div>\n",
       "<style scoped>\n",
       "    .dataframe tbody tr th:only-of-type {\n",
       "        vertical-align: middle;\n",
       "    }\n",
       "\n",
       "    .dataframe tbody tr th {\n",
       "        vertical-align: top;\n",
       "    }\n",
       "\n",
       "    .dataframe thead th {\n",
       "        text-align: right;\n",
       "    }\n",
       "</style>\n",
       "<table border=\"1\" class=\"dataframe\">\n",
       "  <thead>\n",
       "    <tr style=\"text-align: right;\">\n",
       "      <th></th>\n",
       "      <th>fixed acidity</th>\n",
       "      <th>volatile acidity</th>\n",
       "      <th>citric acid</th>\n",
       "      <th>residual sugar</th>\n",
       "      <th>chlorides</th>\n",
       "      <th>free sulfur dioxide</th>\n",
       "      <th>total sulfur dioxide</th>\n",
       "      <th>density</th>\n",
       "      <th>pH</th>\n",
       "      <th>sulphates</th>\n",
       "      <th>alcohol</th>\n",
       "      <th>quality</th>\n",
       "    </tr>\n",
       "  </thead>\n",
       "  <tbody>\n",
       "    <tr>\n",
       "      <th>fixed acidity</th>\n",
       "      <td>1.000000</td>\n",
       "      <td>-0.256131</td>\n",
       "      <td>0.671703</td>\n",
       "      <td>0.114777</td>\n",
       "      <td>0.093705</td>\n",
       "      <td>-0.153794</td>\n",
       "      <td>-0.113181</td>\n",
       "      <td>0.668047</td>\n",
       "      <td>-0.682978</td>\n",
       "      <td>0.183006</td>\n",
       "      <td>-0.061668</td>\n",
       "      <td>0.124052</td>\n",
       "    </tr>\n",
       "    <tr>\n",
       "      <th>volatile acidity</th>\n",
       "      <td>-0.256131</td>\n",
       "      <td>1.000000</td>\n",
       "      <td>-0.552496</td>\n",
       "      <td>0.001918</td>\n",
       "      <td>0.061298</td>\n",
       "      <td>-0.010504</td>\n",
       "      <td>0.076470</td>\n",
       "      <td>0.022026</td>\n",
       "      <td>0.234937</td>\n",
       "      <td>-0.260987</td>\n",
       "      <td>-0.202288</td>\n",
       "      <td>-0.390558</td>\n",
       "    </tr>\n",
       "    <tr>\n",
       "      <th>citric acid</th>\n",
       "      <td>0.671703</td>\n",
       "      <td>-0.552496</td>\n",
       "      <td>1.000000</td>\n",
       "      <td>0.143577</td>\n",
       "      <td>0.203823</td>\n",
       "      <td>-0.060978</td>\n",
       "      <td>0.035533</td>\n",
       "      <td>0.364947</td>\n",
       "      <td>-0.541904</td>\n",
       "      <td>0.312770</td>\n",
       "      <td>0.109903</td>\n",
       "      <td>0.226373</td>\n",
       "    </tr>\n",
       "    <tr>\n",
       "      <th>residual sugar</th>\n",
       "      <td>0.114777</td>\n",
       "      <td>0.001918</td>\n",
       "      <td>0.143577</td>\n",
       "      <td>1.000000</td>\n",
       "      <td>0.055610</td>\n",
       "      <td>0.187049</td>\n",
       "      <td>0.203028</td>\n",
       "      <td>0.355283</td>\n",
       "      <td>-0.085652</td>\n",
       "      <td>0.005527</td>\n",
       "      <td>0.042075</td>\n",
       "      <td>0.013732</td>\n",
       "    </tr>\n",
       "    <tr>\n",
       "      <th>chlorides</th>\n",
       "      <td>0.093705</td>\n",
       "      <td>0.061298</td>\n",
       "      <td>0.203823</td>\n",
       "      <td>0.055610</td>\n",
       "      <td>1.000000</td>\n",
       "      <td>0.005562</td>\n",
       "      <td>0.047400</td>\n",
       "      <td>0.200632</td>\n",
       "      <td>-0.265026</td>\n",
       "      <td>0.371260</td>\n",
       "      <td>-0.221141</td>\n",
       "      <td>-0.128907</td>\n",
       "    </tr>\n",
       "    <tr>\n",
       "      <th>free sulfur dioxide</th>\n",
       "      <td>-0.153794</td>\n",
       "      <td>-0.010504</td>\n",
       "      <td>-0.060978</td>\n",
       "      <td>0.187049</td>\n",
       "      <td>0.005562</td>\n",
       "      <td>1.000000</td>\n",
       "      <td>0.667666</td>\n",
       "      <td>-0.021946</td>\n",
       "      <td>0.070377</td>\n",
       "      <td>0.051658</td>\n",
       "      <td>-0.069408</td>\n",
       "      <td>-0.050656</td>\n",
       "    </tr>\n",
       "    <tr>\n",
       "      <th>total sulfur dioxide</th>\n",
       "      <td>-0.113181</td>\n",
       "      <td>0.076470</td>\n",
       "      <td>0.035533</td>\n",
       "      <td>0.203028</td>\n",
       "      <td>0.047400</td>\n",
       "      <td>0.667666</td>\n",
       "      <td>1.000000</td>\n",
       "      <td>0.071269</td>\n",
       "      <td>-0.066495</td>\n",
       "      <td>0.042947</td>\n",
       "      <td>-0.205654</td>\n",
       "      <td>-0.185100</td>\n",
       "    </tr>\n",
       "    <tr>\n",
       "      <th>density</th>\n",
       "      <td>0.668047</td>\n",
       "      <td>0.022026</td>\n",
       "      <td>0.364947</td>\n",
       "      <td>0.355283</td>\n",
       "      <td>0.200632</td>\n",
       "      <td>-0.021946</td>\n",
       "      <td>0.071269</td>\n",
       "      <td>1.000000</td>\n",
       "      <td>-0.341699</td>\n",
       "      <td>0.148506</td>\n",
       "      <td>-0.496180</td>\n",
       "      <td>-0.174919</td>\n",
       "    </tr>\n",
       "    <tr>\n",
       "      <th>pH</th>\n",
       "      <td>-0.682978</td>\n",
       "      <td>0.234937</td>\n",
       "      <td>-0.541904</td>\n",
       "      <td>-0.085652</td>\n",
       "      <td>-0.265026</td>\n",
       "      <td>0.070377</td>\n",
       "      <td>-0.066495</td>\n",
       "      <td>-0.341699</td>\n",
       "      <td>1.000000</td>\n",
       "      <td>-0.196648</td>\n",
       "      <td>0.205633</td>\n",
       "      <td>-0.057731</td>\n",
       "    </tr>\n",
       "    <tr>\n",
       "      <th>sulphates</th>\n",
       "      <td>0.183006</td>\n",
       "      <td>-0.260987</td>\n",
       "      <td>0.312770</td>\n",
       "      <td>0.005527</td>\n",
       "      <td>0.371260</td>\n",
       "      <td>0.051658</td>\n",
       "      <td>0.042947</td>\n",
       "      <td>0.148506</td>\n",
       "      <td>-0.196648</td>\n",
       "      <td>1.000000</td>\n",
       "      <td>0.093595</td>\n",
       "      <td>0.251397</td>\n",
       "    </tr>\n",
       "    <tr>\n",
       "      <th>alcohol</th>\n",
       "      <td>-0.061668</td>\n",
       "      <td>-0.202288</td>\n",
       "      <td>0.109903</td>\n",
       "      <td>0.042075</td>\n",
       "      <td>-0.221141</td>\n",
       "      <td>-0.069408</td>\n",
       "      <td>-0.205654</td>\n",
       "      <td>-0.496180</td>\n",
       "      <td>0.205633</td>\n",
       "      <td>0.093595</td>\n",
       "      <td>1.000000</td>\n",
       "      <td>0.476166</td>\n",
       "    </tr>\n",
       "    <tr>\n",
       "      <th>quality</th>\n",
       "      <td>0.124052</td>\n",
       "      <td>-0.390558</td>\n",
       "      <td>0.226373</td>\n",
       "      <td>0.013732</td>\n",
       "      <td>-0.128907</td>\n",
       "      <td>-0.050656</td>\n",
       "      <td>-0.185100</td>\n",
       "      <td>-0.174919</td>\n",
       "      <td>-0.057731</td>\n",
       "      <td>0.251397</td>\n",
       "      <td>0.476166</td>\n",
       "      <td>1.000000</td>\n",
       "    </tr>\n",
       "  </tbody>\n",
       "</table>\n",
       "</div>"
      ],
      "text/plain": [
       "                      fixed acidity  volatile acidity  citric acid  \\\n",
       "fixed acidity              1.000000         -0.256131     0.671703   \n",
       "volatile acidity          -0.256131          1.000000    -0.552496   \n",
       "citric acid                0.671703         -0.552496     1.000000   \n",
       "residual sugar             0.114777          0.001918     0.143577   \n",
       "chlorides                  0.093705          0.061298     0.203823   \n",
       "free sulfur dioxide       -0.153794         -0.010504    -0.060978   \n",
       "total sulfur dioxide      -0.113181          0.076470     0.035533   \n",
       "density                    0.668047          0.022026     0.364947   \n",
       "pH                        -0.682978          0.234937    -0.541904   \n",
       "sulphates                  0.183006         -0.260987     0.312770   \n",
       "alcohol                   -0.061668         -0.202288     0.109903   \n",
       "quality                    0.124052         -0.390558     0.226373   \n",
       "\n",
       "                      residual sugar  chlorides  free sulfur dioxide  \\\n",
       "fixed acidity               0.114777   0.093705            -0.153794   \n",
       "volatile acidity            0.001918   0.061298            -0.010504   \n",
       "citric acid                 0.143577   0.203823            -0.060978   \n",
       "residual sugar              1.000000   0.055610             0.187049   \n",
       "chlorides                   0.055610   1.000000             0.005562   \n",
       "free sulfur dioxide         0.187049   0.005562             1.000000   \n",
       "total sulfur dioxide        0.203028   0.047400             0.667666   \n",
       "density                     0.355283   0.200632            -0.021946   \n",
       "pH                         -0.085652  -0.265026             0.070377   \n",
       "sulphates                   0.005527   0.371260             0.051658   \n",
       "alcohol                     0.042075  -0.221141            -0.069408   \n",
       "quality                     0.013732  -0.128907            -0.050656   \n",
       "\n",
       "                      total sulfur dioxide   density        pH  sulphates  \\\n",
       "fixed acidity                    -0.113181  0.668047 -0.682978   0.183006   \n",
       "volatile acidity                  0.076470  0.022026  0.234937  -0.260987   \n",
       "citric acid                       0.035533  0.364947 -0.541904   0.312770   \n",
       "residual sugar                    0.203028  0.355283 -0.085652   0.005527   \n",
       "chlorides                         0.047400  0.200632 -0.265026   0.371260   \n",
       "free sulfur dioxide               0.667666 -0.021946  0.070377   0.051658   \n",
       "total sulfur dioxide              1.000000  0.071269 -0.066495   0.042947   \n",
       "density                           0.071269  1.000000 -0.341699   0.148506   \n",
       "pH                               -0.066495 -0.341699  1.000000  -0.196648   \n",
       "sulphates                         0.042947  0.148506 -0.196648   1.000000   \n",
       "alcohol                          -0.205654 -0.496180  0.205633   0.093595   \n",
       "quality                          -0.185100 -0.174919 -0.057731   0.251397   \n",
       "\n",
       "                       alcohol   quality  \n",
       "fixed acidity        -0.061668  0.124052  \n",
       "volatile acidity     -0.202288 -0.390558  \n",
       "citric acid           0.109903  0.226373  \n",
       "residual sugar        0.042075  0.013732  \n",
       "chlorides            -0.221141 -0.128907  \n",
       "free sulfur dioxide  -0.069408 -0.050656  \n",
       "total sulfur dioxide -0.205654 -0.185100  \n",
       "density              -0.496180 -0.174919  \n",
       "pH                    0.205633 -0.057731  \n",
       "sulphates             0.093595  0.251397  \n",
       "alcohol               1.000000  0.476166  \n",
       "quality               0.476166  1.000000  "
      ]
     },
     "execution_count": 22,
     "metadata": {},
     "output_type": "execute_result"
    }
   ],
   "source": [
    "total_wine.corr()"
   ]
  },
  {
   "cell_type": "markdown",
   "metadata": {
    "cell_id": "401d860aa0f042a693136be305db2be9",
    "deepnote_cell_height": 69.23333740234375,
    "deepnote_cell_type": "markdown",
    "tags": []
   },
   "source": [
    "2. Crea una gráfica tipo heatmap para observar mejor las correlaciones entre variables. "
   ]
  },
  {
   "cell_type": "code",
   "execution_count": 23,
   "metadata": {
    "cell_id": "420eaba4b31c42258e8f87ae64936444",
    "deepnote_cell_height": 65.83332824707031,
    "deepnote_cell_type": "code",
    "tags": []
   },
   "outputs": [
    {
     "data": {
      "image/png": "[encoded data removed]",
      "text/plain": [
       "<Figure size 432x288 with 2 Axes>"
      ]
     },
     "metadata": {},
     "output_type": "display_data"
    }
   ],
   "source": [
    "sns.heatmap(total_wine_clean.corr())\n",
    "plt.show()"
   ]
  },
  {
   "cell_type": "markdown",
   "metadata": {
    "cell_id": "ba7553a7a6df431b9ddc9fe99134acac",
    "deepnote_cell_height": 69.23333740234375,
    "deepnote_cell_type": "markdown",
    "tags": []
   },
   "source": [
    "3. Muestra una tabla con los valores de correlación de cada variable con la variable `quality`."
   ]
  },
  {
   "cell_type": "code",
   "execution_count": 24,
   "metadata": {
    "cell_id": "593ca5e8504a4af3ad11a817dd3855d8",
    "deepnote_cell_height": 65.83332824707031,
    "deepnote_cell_type": "code",
    "tags": []
   },
   "outputs": [
    {
     "data": {
      "text/html": [
       "<div>\n",
       "<style scoped>\n",
       "    .dataframe tbody tr th:only-of-type {\n",
       "        vertical-align: middle;\n",
       "    }\n",
       "\n",
       "    .dataframe tbody tr th {\n",
       "        vertical-align: top;\n",
       "    }\n",
       "\n",
       "    .dataframe thead th {\n",
       "        text-align: right;\n",
       "    }\n",
       "</style>\n",
       "<table border=\"1\" class=\"dataframe\">\n",
       "  <thead>\n",
       "    <tr style=\"text-align: right;\">\n",
       "      <th></th>\n",
       "      <th>quality</th>\n",
       "    </tr>\n",
       "  </thead>\n",
       "  <tbody>\n",
       "    <tr>\n",
       "      <th>quality</th>\n",
       "      <td>1.000000</td>\n",
       "    </tr>\n",
       "    <tr>\n",
       "      <th>alcohol</th>\n",
       "      <td>0.476166</td>\n",
       "    </tr>\n",
       "    <tr>\n",
       "      <th>sulphates</th>\n",
       "      <td>0.251397</td>\n",
       "    </tr>\n",
       "    <tr>\n",
       "      <th>citric acid</th>\n",
       "      <td>0.226373</td>\n",
       "    </tr>\n",
       "    <tr>\n",
       "      <th>fixed acidity</th>\n",
       "      <td>0.124052</td>\n",
       "    </tr>\n",
       "    <tr>\n",
       "      <th>residual sugar</th>\n",
       "      <td>0.013732</td>\n",
       "    </tr>\n",
       "    <tr>\n",
       "      <th>free sulfur dioxide</th>\n",
       "      <td>-0.050656</td>\n",
       "    </tr>\n",
       "    <tr>\n",
       "      <th>pH</th>\n",
       "      <td>-0.057731</td>\n",
       "    </tr>\n",
       "    <tr>\n",
       "      <th>chlorides</th>\n",
       "      <td>-0.128907</td>\n",
       "    </tr>\n",
       "    <tr>\n",
       "      <th>density</th>\n",
       "      <td>-0.174919</td>\n",
       "    </tr>\n",
       "    <tr>\n",
       "      <th>total sulfur dioxide</th>\n",
       "      <td>-0.185100</td>\n",
       "    </tr>\n",
       "    <tr>\n",
       "      <th>volatile acidity</th>\n",
       "      <td>-0.390558</td>\n",
       "    </tr>\n",
       "  </tbody>\n",
       "</table>\n",
       "</div>"
      ],
      "text/plain": [
       "                       quality\n",
       "quality               1.000000\n",
       "alcohol               0.476166\n",
       "sulphates             0.251397\n",
       "citric acid           0.226373\n",
       "fixed acidity         0.124052\n",
       "residual sugar        0.013732\n",
       "free sulfur dioxide  -0.050656\n",
       "pH                   -0.057731\n",
       "chlorides            -0.128907\n",
       "density              -0.174919\n",
       "total sulfur dioxide -0.185100\n",
       "volatile acidity     -0.390558"
      ]
     },
     "execution_count": 24,
     "metadata": {},
     "output_type": "execute_result"
    }
   ],
   "source": [
    "total_wine.corr()[['quality']].sort_values(by='quality', ascending=False)"
   ]
  },
  {
   "cell_type": "markdown",
   "metadata": {
    "cell_id": "6e781ef4fa384c799e3215c66e9959df",
    "deepnote_cell_height": 128.03334045410156,
    "deepnote_cell_type": "markdown",
    "tags": []
   },
   "source": [
    "4. Responde las siguientes preguntas:\n",
    "\n",
    "a) ¿Existen variables que tengan correlación positiva con la variable `quality`? ¿Cuáles son?\n",
    "\n",
    "b) ¿Existen variables que tengan correlación negativa con la variable `quality`? ¿Cuáles son?"
   ]
  },
  {
   "cell_type": "markdown",
   "metadata": {
    "cell_id": "752b87ce20b84a988547a0c67423d0ad",
    "deepnote_cell_height": 211.8333282470703,
    "deepnote_cell_type": "markdown",
    "tags": []
   },
   "source": [
    "Las variables que más correlación tienen con la calidad son:\n",
    "\n",
    "a) Positivamente:\n",
    "- *escribe aquí tus respuetas*\n",
    "\n",
    "b) Negativamente:\n",
    "- *escribe aquí tus respuetas*"
   ]
  },
  {
   "cell_type": "markdown",
   "metadata": {
    "cell_id": "b2fcf82558be4c67a5640b3e559db1d5",
    "deepnote_cell_height": 91.63333129882812,
    "deepnote_cell_type": "markdown",
    "tags": []
   },
   "source": [
    "5. Crea las gráficas que consideres para ver la correlación que exista entre las variables que encontraste que tienen mayor correlación con la variable `quality`."
   ]
  },
  {
   "cell_type": "code",
   "execution_count": 26,
   "metadata": {
    "cell_id": "8c6e4fdb7b1742bebbd02e444fbe77a0",
    "deepnote_cell_height": 65.83332824707031,
    "deepnote_cell_type": "code",
    "tags": []
   },
   "outputs": [
    {
     "data": {
      "image/png": "[encoded data removed]",
      "text/plain": [
       "<Figure size 432x288 with 2 Axes>"
      ]
     },
     "metadata": {},
     "output_type": "display_data"
    }
   ],
   "source": [
    "sns.heatmap(\n",
    "    total_wine.corr()[['quality']].sort_values(by='quality', ascending=False),\n",
    "    annot=True, cmap='coolwarm', linewidths=5, linecolor='black', vmin=-1, vmax=1, cbar=True\n",
    ")\n",
    "plt.show()"
   ]
  },
  {
   "cell_type": "code",
   "execution_count": 33,
   "metadata": {},
   "outputs": [
    {
     "data": {
      "image/png": "[encoded data removed]",
      "text/plain": [
       "<Figure size 946.175x900 with 20 Axes>"
      ]
     },
     "metadata": {},
     "output_type": "display_data"
    }
   ],
   "source": [
    "sns.pairplot(\n",
    "    data=total_wine_clean, hue='quality', palette='coolwarm', corner=True,\n",
    "    vars=['quality', 'alcohol', 'sulphates', 'citric acid', 'volatile acidity']\n",
    ")\n",
    "plt.show()"
   ]
  },
  {
   "cell_type": "markdown",
   "metadata": {
    "cell_id": "b53faef38b4c4808bf61302e06ccdde3",
    "deepnote_cell_height": 128.03334045410156,
    "deepnote_cell_type": "markdown",
    "tags": []
   },
   "source": [
    "6. Responde las preguntas: \n",
    "\n",
    "a) ¿Existen variables correlacionadas con la calidad que estén correlacionadas fuertemente entre sí?\n",
    "\n",
    "b) ¿Esta información para que nos serviría?"
   ]
  },
  {
   "cell_type": "markdown",
   "metadata": {
    "cell_id": "954080e688184399b43fc3bfcffe0d0d",
    "deepnote_cell_height": 52.23333740234375,
    "deepnote_cell_type": "markdown",
    "tags": []
   },
   "source": [
    "*Escribe aquí tu respuesta.*"
   ]
  },
  {
   "cell_type": "markdown",
   "metadata": {
    "cell_id": "3c0f1c3a025446628d1ae960ec8c8737",
    "deepnote_cell_height": 261.23333740234375,
    "deepnote_cell_type": "markdown",
    "tags": []
   },
   "source": [
    "7. Crea gráficas de barras y de violín para ver a detalle cómo las variables que tienen correlación más fuerte con la variable `quality`, afectan a dicha variable.\n",
    "\n",
    "- En el eje x deberán aparecer las categorías de calidad: Poor, Medium High.\n",
    "\n",
    "- En el eje y deberá aparecer la variable correspondiente.\n",
    "\n",
    "- Toma en cuenta los valores máximo y mínimo de cada variable para marcar los límites en el eje y.\n",
    "\n",
    "Al finalizar obtendrás gráficas como estas:\n",
    "\n",
    "<img src=density.png>\n",
    "<img src=density_violin.png>\n"
   ]
  },
  {
   "cell_type": "code",
   "execution_count": null,
   "metadata": {
    "cell_id": "bccbdb7e0e5740678599f74c6997395f",
    "deepnote_cell_height": 65.83332824707031,
    "deepnote_cell_type": "code",
    "tags": []
   },
   "outputs": [],
   "source": []
  },
  {
   "cell_type": "code",
   "execution_count": null,
   "metadata": {
    "cell_id": "2702082b96ee4310bffc0135a79c7b72",
    "deepnote_cell_height": 65.83332824707031,
    "deepnote_cell_type": "code",
    "tags": []
   },
   "outputs": [],
   "source": []
  },
  {
   "cell_type": "code",
   "execution_count": null,
   "metadata": {
    "cell_id": "1ef73a243dd34ef6bb4974a085c5fa79",
    "deepnote_cell_height": 65.83332824707031,
    "deepnote_cell_type": "code",
    "tags": []
   },
   "outputs": [],
   "source": []
  },
  {
   "cell_type": "markdown",
   "metadata": {
    "cell_id": "2ba9d851eeb94f6aadd80ec8c6dc0b9d",
    "deepnote_cell_height": 164.43333435058594,
    "deepnote_cell_type": "markdown",
    "tags": []
   },
   "source": [
    "8. Responde las siguientes preguntas como conclusiones de este EDA:\n",
    "\n",
    "a) ¿Cuáles son las variables que podrían afectarían a la calidad del vino?\n",
    "\n",
    "b) ¿Es necesario aumentar o disminuir la cantidad de dichas variables para aumentar la calidad?\n",
    "\n",
    "c) ¿Cuál es la variable que más podría afectar a la calidad del vino?"
   ]
  },
  {
   "cell_type": "markdown",
   "metadata": {
    "cell_id": "5ffffa09de4b4b3cbb963a3fc369cca3",
    "deepnote_cell_height": 52.23333740234375,
    "deepnote_cell_type": "markdown",
    "tags": []
   },
   "source": [
    "*Escribe aquí tus respuestas.*"
   ]
  },
  {
   "cell_type": "markdown",
   "metadata": {
    "cell_id": "5b77e5a9fe5d464b9a62d33ba2ea9721",
    "deepnote_cell_height": 375.83331298828125,
    "deepnote_cell_type": "markdown",
    "tags": []
   },
   "source": [
    "### *Clases sugeridas*:\n",
    "\n",
    "Estadística descriptiva y EDA\n",
    "- [Correlaciones](https://platzi.com/clases/2353-estadistica-descriptiva/38409-correlaciones/?utm_source=contenido&utm_medium=organic&utm_campaign=ejercicio-eda)\n",
    "\n",
    "- [Matriz de covarianza](https://platzi.com/clases/2353-estadistica-descriptiva/38410-matriz-de-covarianza/?utm_source=contenido&utm_medium=organic&utm_campaign=ejercicio-eda)\n",
    "\n",
    "- [Correlación](https://platzi.com/clases/2178-analisis-exploratorio-datos/34151-correlacion/?utm_source=contenido&utm_medium=organic&utm_campaign=ejercicio-eda)\n",
    "\n",
    "Gráficas\n",
    "- [Relation (Seaborn)](https://platzi.com/clases/2913-matplotlib-seaborn/47951-relation/?utm_source=contenido&utm_medium=organic&utm_campaign=ejercicio-eda)\n",
    "\n",
    "- [Heatmap (Seaborn)](https://platzi.com/clases/2913-matplotlib-seaborn/47953-heatmap/?utm_source=contenido&utm_medium=organic&utm_campaign=ejercicio-eda)\n",
    "\n",
    "- [Jointplot y Pairplot (Seaborn)](https://platzi.com/clases/2913-matplotlib-seaborn/47952-jointplot-y-pairplot/?utm_source=contenido&utm_medium=organic&utm_campaign=ejercicio-eda)\n",
    "\n",
    "- [Bar Plot (Matplotlib)](https://platzi.com/clases/2913-matplotlib-seaborn/47944-bar-plot/?utm_source=contenido&utm_medium=organic&utm_campaign=ejercicio-eda)\n",
    "\n",
    "- [Categóricos (Violin plot en Seaborn)](https://platzi.com/clases/2913-matplotlib-seaborn/47950-categoricos/?utm_source=contenido&utm_medium=organic&utm_campaign=ejercicio-eda)"
   ]
  },
  {
   "cell_type": "markdown",
   "metadata": {
    "cell_id": "42cc8a600e7346029ba3c35880ee269a",
    "deepnote_cell_height": 69.83332824707031,
    "deepnote_cell_type": "markdown",
    "tags": []
   },
   "source": [
    "## Siguientes pasos 🚀"
   ]
  },
  {
   "cell_type": "markdown",
   "metadata": {
    "cell_id": "9d87087a96e7471d825633f6c267fd55",
    "deepnote_cell_height": 215.5500030517578,
    "deepnote_cell_type": "markdown",
    "tags": []
   },
   "source": [
    "---\n",
    "\n",
    "¡Muchas felicidades! Has creado tu primer proyecto de análisis exploratorio de datos.\n",
    "\n",
    "Es importante que recuerdes que dentro del análisis exploratorio de datos hay múltiples caminos y herramientas de acuerdo a lo que quieras lograr. Podríamos ir más allá en la manipulación y análisis de datos. Incluso podríamos utilizar machine learning para validar nuestra hipótesis.\n",
    "\n",
    "En este momento ya tienes **el primer proyecto para tu portafolio profesional**. Para seguir avanzando en tu carrera te recomendamos el [Curso para Crear tus Proyectos de Ciencia de Datos](https://platzi.com/cursos/proyectos-data-science/?utm_source=contenido&utm_medium=organic&utm_campaign=ejercicio-eda) y el [Curso para Conseguir Trabajo en Tecnología](https://platzi.com/cursos/conseguir-trabajo-tech/?utm_source=contenido&utm_medium=organic&utm_campaign=ejercicio-eda) y tendrás todo para unirte a una startup como Data Analyst o Data Scientist. #StartupReady 🚀"
   ]
  },
  {
   "cell_type": "markdown",
   "metadata": {
    "created_in_deepnote_cell": true,
    "deepnote_cell_type": "markdown",
    "tags": []
   },
   "source": [
    "<a style='text-decoration:none;line-height:16px;display:flex;color:#5B5B62;padding:10px;justify-content:end;' href='https://deepnote.com?utm_source=created-in-deepnote-cell&projectId=32b92291-829a-46c8-a4bc-eebbfab60359' target=\"_blank\">\n",
    "<img alt='Created in deepnote.com' style='display:inline;max-height:16px;margin:0px;margin-right:7.5px;' src='data:image/svg+xml;base64,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' > </img>\n",
    "Created in <span style='font-weight:600;margin-left:4px;'>Deepnote</span></a>"
   ]
  }
 ],
 "metadata": {
  "deepnote": {},
  "deepnote_execution_queue": [],
  "deepnote_notebook_id": "fef5b63c-2807-4eb5-acf8-851291e42e2c",
  "kernelspec": {
   "display_name": "Python 3 (ipykernel)",
   "language": "python",
   "name": "python3"
  },
  "language_info": {
   "codemirror_mode": {
    "name": "ipython",
    "version": 3
   },
   "file_extension": ".py",
   "mimetype": "text/x-python",
   "name": "python",
   "nbconvert_exporter": "python",
   "pygments_lexer": "ipython3",
   "version": "3.8.10"
  }
 },
 "nbformat": 4,
 "nbformat_minor": 4
}
