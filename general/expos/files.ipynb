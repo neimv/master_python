{
 "cells": [
  {
   "cell_type": "markdown",
   "metadata": {},
   "source": [
    "# Manejo de archivos"
   ]
  },
  {
   "cell_type": "markdown",
   "metadata": {},
   "source": [
    "## import de librerias"
   ]
  },
  {
   "cell_type": "code",
   "execution_count": null,
   "metadata": {},
   "outputs": [],
   "source": []
  },
  {
   "cell_type": "markdown",
   "metadata": {},
   "source": [
    "### Clase para el tratamiento de datos"
   ]
  },
  {
   "cell_type": "code",
   "execution_count": 1,
   "metadata": {},
   "outputs": [],
   "source": [
    "class IrisClass:\n",
    "    def __init__(\n",
    "        self,\n",
    "        sepal_length: str,\n",
    "        sepal_width: str,\n",
    "        petal_length: str,\n",
    "        petal_width: str,\n",
    "        class_type: str\n",
    "    ) -> None:\n",
    "        self.sepal_length = float(sepal_length)\n",
    "        self.sepal_width = float(sepal_width)\n",
    "        self.petal_length = float(petal_length)\n",
    "        self.petal_width = float(petal_width)\n",
    "        self.class_type = class_type\n",
    "\n",
    "    def transform_class_type(self) -> str:\n",
    "        mapper = {\n",
    "            \"Iris-setosa\": 1,\n",
    "            \"Iris-versicolor\": 2,\n",
    "            \"Iris-virginica\": 3,\n",
    "        }\n",
    "        n_class_type = mapper[self.class_type]\n",
    "\n",
    "        return (\n",
    "            f'{self.sepal_length},'\n",
    "            f'{self.sepal_width},'\n",
    "            f'{self.petal_length},'\n",
    "            f'{self.petal_width},'\n",
    "            f'{n_class_type}'\n",
    "        )\n",
    "\n",
    "    def __str__(self) -> str:\n",
    "        return (\n",
    "            f'Class Flower: {self.class_type}\\n'\n",
    "            f'Sepal Size: [{self.sepal_length}, {self.sepal_width}]\\n'\n",
    "            f'Petal Size: [{self.petal_length}, {self.petal_width}]\\n'\n",
    "        )\n",
    "\n",
    "    def __repr__(self) -> str:\n",
    "        return (\n",
    "            f'Class Flower: {self.class_type}\\n'\n",
    "            f'Sepal Length: {self.sepal_length}\\n'\n",
    "            f'Sepal Width: {self.sepal_width}\\n'\n",
    "            f'Petal Length: {self.petal_length}\\n'\n",
    "            f'Petal Width: {self.petal_width}\\n'\n",
    "        )"
   ]
  },
  {
   "cell_type": "markdown",
   "metadata": {},
   "source": [
    "### Funciones para abrir archivos\n",
    "<p>\n",
    "Existen dos maneras de abrir los archivos:\n",
    "<ol>\n",
    "<li> open y close de forma tradicional </li>\n",
    "<li> open usando contexto, en este no se usa close el mismo contexto lo aplica </li>\n",
    "</ol>\n",
    "</p>"
   ]
  },
  {
   "cell_type": "code",
   "execution_count": null,
   "metadata": {},
   "outputs": [],
   "source": [
    "def file_open_old(\n",
    "    name: str,\n",
    "    mode: str,\n",
    "    encoding: str = \"utf-8\",\n",
    "    full: bool = False\n",
    "):\n",
    "    f = open(name, mode, encoding=encoding)\n",
    "    __file_works(name, mode, f, full)\n",
    "    f.close()\n",
    "\n",
    "\n",
    "def file_open_context(\n",
    "    name: str,\n",
    "    mode: str,\n",
    "    encoding: str = \"utf-8\",\n",
    "    full: bool = False\n",
    "):\n",
    "    with open(name, mode, encoding=encoding) as f:\n",
    "        __file_works(name, mode, f, full)"
   ]
  }
 ],
 "metadata": {
  "kernelspec": {
   "display_name": "Python 3.9.12 ('expos-CTjtndMl')",
   "language": "python",
   "name": "python3"
  },
  "language_info": {
   "codemirror_mode": {
    "name": "ipython",
    "version": 3
   },
   "file_extension": ".py",
   "mimetype": "text/x-python",
   "name": "python",
   "nbconvert_exporter": "python",
   "pygments_lexer": "ipython3",
   "version": "3.9.12"
  },
  "orig_nbformat": 4,
  "vscode": {
   "interpreter": {
    "hash": "4ae1d9573f36c5ea85e81284a590ce02170bd3f6f3d77e6fc9900e8410b6db09"
   }
  }
 },
 "nbformat": 4,
 "nbformat_minor": 2
}
