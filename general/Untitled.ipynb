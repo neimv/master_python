{
 "cells": [
  {
   "cell_type": "code",
   "execution_count": 3,
   "id": "72f79902-be6e-47fa-818e-dbcf97effbf2",
   "metadata": {},
   "outputs": [],
   "source": [
    "import sys\n",
    "!{sys.executable} -m pip install bokeh -q"
   ]
  },
  {
   "cell_type": "code",
   "execution_count": 5,
   "id": "47569f32-00b3-4fa9-b5a9-0be18908e91a",
   "metadata": {},
   "outputs": [],
   "source": [
    "from bokeh.plotting import figure, output_file, show"
   ]
  },
  {
   "cell_type": "code",
   "execution_count": 9,
   "id": "182aadde-5355-4d60-94b5-2d406ef02022",
   "metadata": {},
   "outputs": [],
   "source": [
    "output_file('graficado_simple.html')\n",
    "fig = figure()\n",
    "\n",
    "total_vals = 20\n",
    "x_vals = list(range(total_vals))\n",
    "y_vals = [x ** 2 for x in x_vals]\n",
    "\n",
    "fig.line(x_vals, y_vals, line_width=2)\n",
    "show(fig)"
   ]
  },
  {
   "cell_type": "code",
   "execution_count": null,
   "id": "b505aeb6-2724-4518-a168-00634bd27475",
   "metadata": {},
   "outputs": [],
   "source": []
  }
 ],
 "metadata": {
  "kernelspec": {
   "display_name": "Python 3",
   "language": "python",
   "name": "python3"
  },
  "language_info": {
   "codemirror_mode": {
    "name": "ipython",
    "version": 3
   },
   "file_extension": ".py",
   "mimetype": "text/x-python",
   "name": "python",
   "nbconvert_exporter": "python",
   "pygments_lexer": "ipython3",
   "version": "3.8.8"
  }
 },
 "nbformat": 4,
 "nbformat_minor": 5
}
